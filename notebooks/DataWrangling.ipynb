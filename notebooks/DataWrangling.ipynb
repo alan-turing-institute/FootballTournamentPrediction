{
 "cells": [
  {
   "cell_type": "code",
   "execution_count": 17,
   "id": "a0cb388c",
   "metadata": {},
   "outputs": [],
   "source": [
    "import os\n",
    "import pandas as pd\n",
    "from datetime import datetime"
   ]
  },
  {
   "cell_type": "code",
   "execution_count": 18,
   "id": "179569d9",
   "metadata": {},
   "outputs": [],
   "source": [
    "data_path = os.path.join(os.getcwd(),\"..\",\"data\")"
   ]
  },
  {
   "cell_type": "code",
   "execution_count": 19,
   "id": "6aecb4ff",
   "metadata": {},
   "outputs": [],
   "source": [
    "all_results = pd.read_csv(os.path.join(data_path,\"results.csv\"))"
   ]
  },
  {
   "cell_type": "code",
   "execution_count": 20,
   "id": "4cd1a099",
   "metadata": {},
   "outputs": [
    {
     "data": {
      "text/plain": [
       "3826"
      ]
     },
     "execution_count": 20,
     "metadata": {},
     "output_type": "execute_result"
    }
   ],
   "source": [
    "all_results[\"date\"] = pd.to_datetime(all_results[\"date\"])\n",
    "results_df = all_results[all_results[\"date\"]>datetime(2018,6,14)]\n",
    "len(results_df)"
   ]
  },
  {
   "cell_type": "markdown",
   "id": "a935ec8a",
   "metadata": {},
   "source": [
    "Only include rows for teams in the WC"
   ]
  },
  {
   "cell_type": "code",
   "execution_count": 21,
   "id": "56046646",
   "metadata": {},
   "outputs": [],
   "source": [
    "teams_df = pd.read_csv(os.path.join(data_path,\"teams.csv\"))"
   ]
  },
  {
   "cell_type": "code",
   "execution_count": 22,
   "id": "86bd66c1",
   "metadata": {},
   "outputs": [],
   "source": [
    "teams = list(teams_df.Team.values)\n"
   ]
  },
  {
   "cell_type": "code",
   "execution_count": 23,
   "id": "3e61214a",
   "metadata": {},
   "outputs": [],
   "source": [
    "res_df = results_df[(results_df.home_team.isin(teams)) | (results_df.away_team.isin(teams))]"
   ]
  },
  {
   "cell_type": "code",
   "execution_count": 24,
   "id": "4ac04cc3",
   "metadata": {},
   "outputs": [
    {
     "data": {
      "text/plain": [
       "1348"
      ]
     },
     "execution_count": 24,
     "metadata": {},
     "output_type": "execute_result"
    }
   ],
   "source": [
    "len(res_df)"
   ]
  },
  {
   "cell_type": "code",
   "execution_count": 25,
   "id": "8c6293ca",
   "metadata": {},
   "outputs": [
    {
     "name": "stdout",
     "output_type": "stream",
     "text": [
      "Qatar 37 26\n",
      "Ecuador 22 27\n",
      "Senegal 31 20\n",
      "Netherlands 28 20\n",
      "England 34 24\n",
      "Iran 22 19\n",
      "USA 45 17\n",
      "Wales 27 22\n",
      "Argentina 33 20\n",
      "Saudi Arabia 29 20\n",
      "Mexico 41 29\n",
      "Poland 28 22\n",
      "France 32 24\n",
      "Australia 18 17\n",
      "Denmark 28 26\n",
      "Tunisia 28 27\n",
      "Spain 27 27\n",
      "Costa Rica 24 32\n",
      "Germany 31 20\n",
      "Japan 39 18\n",
      "Belgium 30 26\n",
      "Canada 21 23\n",
      "Morocco 35 13\n",
      "Croatia 28 27\n",
      "Brazil 39 16\n",
      "Serbia 23 26\n",
      "Switzerland 27 26\n",
      "Cameroon 22 17\n",
      "Portugal 28 24\n",
      "Ghana 17 19\n",
      "Uruguay 21 28\n",
      "South Korea 38 14\n"
     ]
    }
   ],
   "source": [
    "for t in teams:\n",
    "    print(t, len(res_df[res_df.home_team==t]), len(res_df[res_df.away_team==t]))"
   ]
  },
  {
   "cell_type": "code",
   "execution_count": 30,
   "id": "169c59f5",
   "metadata": {},
   "outputs": [
    {
     "data": {
      "text/plain": [
       "['Burundi',\n",
       " 'Luxembourg',\n",
       " 'Cape Verde',\n",
       " 'Venezuela',\n",
       " 'Latvia',\n",
       " 'Dominica',\n",
       " 'Mali',\n",
       " 'Madagascar',\n",
       " 'Sudan',\n",
       " 'Bosnia and Herzegovina',\n",
       " 'Moldova',\n",
       " 'São Tomé and Príncipe',\n",
       " 'Azerbaijan',\n",
       " 'Bermuda',\n",
       " 'Botswana',\n",
       " 'Panama',\n",
       " 'Turkmenistan',\n",
       " 'Slovakia',\n",
       " 'South Africa',\n",
       " 'Nigeria',\n",
       " 'Zimbabwe',\n",
       " 'Singapore',\n",
       " 'Ivory Coast',\n",
       " 'Malawi',\n",
       " 'USA Virgin Islands',\n",
       " 'Vietnam',\n",
       " 'North Macedonia',\n",
       " 'Cayman Islands',\n",
       " 'Suriname',\n",
       " 'Liberia',\n",
       " 'Ukraine',\n",
       " 'Haiti',\n",
       " 'Uganda',\n",
       " 'Finland',\n",
       " 'Rwanda',\n",
       " 'Benin',\n",
       " 'Congo',\n",
       " 'Kyrgyzstan',\n",
       " 'Niger',\n",
       " 'Bahrain',\n",
       " 'Colombia',\n",
       " 'Lebanon',\n",
       " 'Kenya',\n",
       " 'Mauritania',\n",
       " 'DR Congo',\n",
       " 'Ethiopia',\n",
       " 'Northern Ireland',\n",
       " 'Philippines',\n",
       " 'Kazakhstan',\n",
       " 'Georgia',\n",
       " 'United Arab Emirates',\n",
       " 'Italy',\n",
       " 'Central African Republic',\n",
       " 'China PR',\n",
       " 'Cyprus',\n",
       " 'Iceland',\n",
       " 'Turkey',\n",
       " 'Peru',\n",
       " 'Czech Republic',\n",
       " 'Saint Kitts and Nevis',\n",
       " 'Kosovo',\n",
       " 'Guinea',\n",
       " 'Liechtenstein',\n",
       " 'Bolivia',\n",
       " 'Mozambique',\n",
       " 'Eswatini',\n",
       " 'Namibia',\n",
       " 'Hungary',\n",
       " 'Romania',\n",
       " 'Cambodia',\n",
       " 'Guinea-Bissau',\n",
       " 'Guatemala',\n",
       " 'North Korea',\n",
       " 'Grenada',\n",
       " 'Faroe Islands',\n",
       " 'Sri Lanka',\n",
       " 'Tanzania',\n",
       " 'Guyana',\n",
       " 'Mongolia',\n",
       " 'Kuwait',\n",
       " 'Yemen',\n",
       " 'Taiwan',\n",
       " 'San Marino',\n",
       " 'Afghanistan',\n",
       " 'Cuba',\n",
       " 'Burkina Faso',\n",
       " 'Egypt',\n",
       " 'Oman',\n",
       " 'Belarus',\n",
       " 'Iraq',\n",
       " 'Zambia',\n",
       " 'Norway',\n",
       " 'Nepal',\n",
       " 'Gibraltar',\n",
       " 'Bulgaria',\n",
       " 'Slovenia',\n",
       " 'Algeria',\n",
       " 'Curaçao',\n",
       " 'Austria',\n",
       " 'Basque Country',\n",
       " 'Paraguay',\n",
       " 'Israel',\n",
       " 'Sweden',\n",
       " 'Russia',\n",
       " 'Myanmar',\n",
       " 'Jamaica',\n",
       " 'New Zealand',\n",
       " 'Libya',\n",
       " 'Honduras',\n",
       " 'Armenia',\n",
       " 'Syria',\n",
       " 'Greece',\n",
       " 'French Guiana',\n",
       " 'South Sudan',\n",
       " 'Uzbekistan',\n",
       " 'Estonia',\n",
       " 'Scotland',\n",
       " 'Jordan',\n",
       " 'Dominican Republic',\n",
       " 'Bangladesh',\n",
       " 'Palestine',\n",
       " 'Tajikistan',\n",
       " 'Republic of Ireland',\n",
       " 'Gambia',\n",
       " 'Andorra',\n",
       " 'Barbados',\n",
       " 'Lithuania',\n",
       " 'India',\n",
       " 'Montenegro',\n",
       " 'Gabon',\n",
       " 'Nicaragua',\n",
       " 'Martinique',\n",
       " 'Guadeloupe',\n",
       " 'Comoros',\n",
       " 'Chile',\n",
       " 'Togo',\n",
       " 'Angola',\n",
       " 'Trinidad and Tobago',\n",
       " 'El Salvador',\n",
       " 'Hong Kong',\n",
       " 'Equatorial Guinea',\n",
       " 'Aruba',\n",
       " 'Albania',\n",
       " 'Malta']"
      ]
     },
     "execution_count": 30,
     "metadata": {},
     "output_type": "execute_result"
    }
   ],
   "source": [
    "other_teams = []\n",
    "for team_list in [res_df.home_team.values,res_df.away_team.values]:\n",
    "    for t in team_list:\n",
    "        if t not in teams:\n",
    "            other_teams.append(t)\n",
    "other_teams = list(set(other_teams))\n",
    "other_teams"
   ]
  },
  {
   "cell_type": "code",
   "execution_count": null,
   "id": "012d2e88",
   "metadata": {},
   "outputs": [],
   "source": []
  }
 ],
 "metadata": {
  "kernelspec": {
   "display_name": "Python 3 (ipykernel)",
   "language": "python",
   "name": "python3"
  },
  "language_info": {
   "codemirror_mode": {
    "name": "ipython",
    "version": 3
   },
   "file_extension": ".py",
   "mimetype": "text/x-python",
   "name": "python",
   "nbconvert_exporter": "python",
   "pygments_lexer": "ipython3",
   "version": "3.9.13"
  }
 },
 "nbformat": 4,
 "nbformat_minor": 5
}
