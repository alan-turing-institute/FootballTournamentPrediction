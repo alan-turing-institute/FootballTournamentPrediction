{
 "cells": [
  {
   "cell_type": "code",
   "execution_count": 1,
   "id": "cc6d3770",
   "metadata": {},
   "outputs": [],
   "source": [
    "import wcpredictor\n",
    "import pandas as pd"
   ]
  },
  {
   "cell_type": "code",
   "execution_count": 2,
   "id": "979fc1ae",
   "metadata": {},
   "outputs": [
    {
     "name": "stdout",
     "output_type": "stream",
     "text": [
      "Using FIFA videogame rankings\n",
      "Using 856 rows in training data\n",
      "Using FIFA videogame rankings\n",
      "[MODEL FITTING] Setting training data for the model\n",
      "[MODEL FITTING] Fitting the model\n"
     ]
    },
    {
     "name": "stderr",
     "output_type": "stream",
     "text": [
      "sample: 100%|███████████████████████████████████████████████| 1500/1500 [00:29<00:00, 51.24it/s, 255 steps of size 2.51e-02. acc. prob=0.89]\n"
     ]
    },
    {
     "data": {
      "text/plain": [
       "{'AFC': -0.11209800839424133,\n",
       " 'CAF': -0.01766471564769745,\n",
       " 'CONCACAF': -0.123991459608078,\n",
       " 'CONMEBOL': 0.01173726748675108,\n",
       " 'OFC': -0.5503221154212952,\n",
       " 'UEFA': 0.00692346878349781,\n",
       " 'Unaffiliated': 0.4442307949066162}"
      ]
     },
     "execution_count": 2,
     "metadata": {},
     "output_type": "execute_result"
    }
   ],
   "source": [
    "import numpy as np\n",
    "import pandas as pd\n",
    "\n",
    "import matplotlib.pyplot as plt\n",
    "import seaborn as sns\n",
    "\n",
    "import bpl\n",
    "import wcpredictor\n",
    "\n",
    "# training data date range\n",
    "start_date = \"2022-1-1\"\n",
    "end_date = \"2022-12-31\"\n",
    "\n",
    "wc_teams = wcpredictor.get_teams_data(year=\"2022\")\n",
    "\n",
    "wc_pred = wcpredictor.get_and_train_model(\n",
    "    start_date=start_date,\n",
    "    end_date=end_date,\n",
    "    model=bpl.NeutralDixonColesMatchPredictorWC(),\n",
    "    rankings_source=\"game\",\n",
    ")\n",
    "dict(\n",
    "    zip(\n",
    "        wc_pred.model.conferences,\n",
    "        wc_pred.model.confederation_strength.mean(axis=0).tolist(),\n",
    "    )\n",
    ")"
   ]
  },
  {
   "cell_type": "code",
   "execution_count": 3,
   "id": "96c90f2f",
   "metadata": {},
   "outputs": [
    {
     "name": "stdout",
     "output_type": "stream",
     "text": [
      "Using FIFA organisation rankings\n"
     ]
    }
   ],
   "source": [
    "test = wcpredictor.Tournament(year = \"2022\", partial_predict = True)"
   ]
  },
  {
   "cell_type": "code",
   "execution_count": 5,
   "id": "4afa987b",
   "metadata": {},
   "outputs": [
    {
     "data": {
      "text/plain": [
       "(         Team_1        Team_2  Team_1_score  Team_2_score\n",
       " 0         Qatar       Ecuador             0             2\n",
       " 1       England          Iran             6             2\n",
       " 2       Senegal   Netherlands             0             2\n",
       " 3           USA         Wales             1             1\n",
       " 4     Argentina  Saudi Arabia             1             2\n",
       " 5        Mexico        Poland             0             0\n",
       " 6       Denmark       Tunisia             0             0\n",
       " 7        France     Australia             4             1\n",
       " 8       Morocco       Croatia             0             0\n",
       " 9       Germany         Japan             1             2\n",
       " 10        Spain    Costa Rica             7             0\n",
       " 11      Belgium        Canada             1             0\n",
       " 12       Brazil        Serbia             2             0\n",
       " 13     Portugal         Ghana             3             2\n",
       " 14      Uruguay   South Korea             0             0\n",
       " 15  Switzerland      Cameroon             1             0,\n",
       "               Team_1            Team_2        Date  Stage\n",
       " 0              Qatar           Ecuador  2022-11-20  Group\n",
       " 1            England              Iran  2022-11-21  Group\n",
       " 2            Senegal       Netherlands  2022-11-21  Group\n",
       " 3                USA             Wales  2022-11-21  Group\n",
       " 4          Argentina      Saudi Arabia  2022-11-22  Group\n",
       " ..               ...               ...         ...    ...\n",
       " 58              1B2A              1D2C  2022-12-10     QF\n",
       " 59              1H2G              1F2E  2022-12-10     QF\n",
       " 60          1A2B1C2D          1G2H1E2F  2022-12-13     SF\n",
       " 61          1B2A1D2C          1H2G1F2E  2022-12-14     SF\n",
       " 62  1A2B1C2D1G2H1E2F  1B2A1D2C1H2G1F2E  2022-12-19      F\n",
       " \n",
       " [62 rows x 4 columns])"
      ]
     },
     "execution_count": 5,
     "metadata": {},
     "output_type": "execute_result"
    }
   ],
   "source": [
    "test.get_played_fixtures()"
   ]
  },
  {
   "cell_type": "code",
   "execution_count": 7,
   "id": "c8d51a46",
   "metadata": {
    "scrolled": true
   },
   "outputs": [
    {
     "name": "stdout",
     "output_type": "stream",
     "text": [
      "Group\n",
      "0.1935749053955078\n"
     ]
    }
   ],
   "source": [
    "test.play_group_stage(wc_pred)"
   ]
  },
  {
   "cell_type": "markdown",
   "id": "5e94ff01",
   "metadata": {},
   "source": [
    "Notice England 6-2 Iran and USA 1-1 Wales are here"
   ]
  },
  {
   "cell_type": "code",
   "execution_count": 8,
   "id": "1aaa3b33",
   "metadata": {},
   "outputs": [
    {
     "data": {
      "text/plain": [
       "{'home_team': array(['England', 'USA', 'England', 'Wales', 'Iran', 'Wales', 'England',\n",
       "        'USA'], dtype=object),\n",
       " 'away_team': array(['Iran', 'Wales', 'USA', 'Iran', 'USA', 'England', 'Iran', 'Wales'],\n",
       "       dtype=object),\n",
       " 'home_score': array([[3],\n",
       "        [3],\n",
       "        [0],\n",
       "        [4],\n",
       "        [0],\n",
       "        [1],\n",
       "        [6],\n",
       "        [1]], dtype=uint8),\n",
       " 'away_score': array([[1],\n",
       "        [0],\n",
       "        [1],\n",
       "        [2],\n",
       "        [2],\n",
       "        [2],\n",
       "        [2],\n",
       "        [1]], dtype=uint8)}"
      ]
     },
     "execution_count": 8,
     "metadata": {},
     "output_type": "execute_result"
    }
   ],
   "source": [
    "test.groups[\"B\"].results"
   ]
  },
  {
   "cell_type": "markdown",
   "id": "8eb3f509",
   "metadata": {},
   "source": [
    "Notice Brazil 2-0 Serbia and Switzerland 1-0 Cameroon are here"
   ]
  },
  {
   "cell_type": "code",
   "execution_count": 9,
   "id": "e01cce29",
   "metadata": {
    "scrolled": true
   },
   "outputs": [
    {
     "data": {
      "text/plain": [
       "{'home_team': array(['Brazil', 'Brazil', 'Cameroon', 'Cameroon', 'Serbia', 'Brazil',\n",
       "        'Switzerland'], dtype=object),\n",
       " 'away_team': array(['Serbia', 'Switzerland', 'Serbia', 'Brazil', 'Switzerland',\n",
       "        'Serbia', 'Cameroon'], dtype=object),\n",
       " 'home_score': array([[3],\n",
       "        [1],\n",
       "        [0],\n",
       "        [1],\n",
       "        [0],\n",
       "        [2],\n",
       "        [1]], dtype=uint8),\n",
       " 'away_score': array([[1],\n",
       "        [1],\n",
       "        [0],\n",
       "        [3],\n",
       "        [0],\n",
       "        [0],\n",
       "        [0]], dtype=uint8)}"
      ]
     },
     "execution_count": 9,
     "metadata": {},
     "output_type": "execute_result"
    }
   ],
   "source": [
    "test.groups[\"G\"].results"
   ]
  },
  {
   "cell_type": "markdown",
   "id": "9b739084",
   "metadata": {},
   "source": [
    "Notice Argentina 1-2 Saudi Arabia and Mexico 0-0 Poland are here."
   ]
  },
  {
   "cell_type": "code",
   "execution_count": 10,
   "id": "03c0a9fd",
   "metadata": {},
   "outputs": [
    {
     "data": {
      "text/plain": [
       "{'home_team': array(['Argentina', 'Mexico', 'Argentina', 'Poland', 'Saudi Arabia',\n",
       "        'Poland', 'Argentina', 'Mexico'], dtype=object),\n",
       " 'away_team': array(['Saudi Arabia', 'Poland', 'Mexico', 'Saudi Arabia', 'Mexico',\n",
       "        'Argentina', 'Saudi Arabia', 'Poland'], dtype=object),\n",
       " 'home_score': array([[2],\n",
       "        [1],\n",
       "        [1],\n",
       "        [2],\n",
       "        [2],\n",
       "        [2],\n",
       "        [1],\n",
       "        [0]], dtype=uint8),\n",
       " 'away_score': array([[1],\n",
       "        [0],\n",
       "        [0],\n",
       "        [1],\n",
       "        [0],\n",
       "        [1],\n",
       "        [2],\n",
       "        [0]], dtype=uint8)}"
      ]
     },
     "execution_count": 10,
     "metadata": {},
     "output_type": "execute_result"
    }
   ],
   "source": [
    "test.groups[\"C\"].results"
   ]
  },
  {
   "cell_type": "code",
   "execution_count": 11,
   "id": "c925c3d2",
   "metadata": {},
   "outputs": [
    {
     "data": {
      "text/plain": [
       "{'home_team': array(['Qatar', 'Senegal', 'Netherlands', 'Qatar', 'Qatar', 'Ecuador',\n",
       "        'Qatar', 'Senegal'], dtype=object),\n",
       " 'away_team': array(['Ecuador', 'Netherlands', 'Ecuador', 'Senegal', 'Netherlands',\n",
       "        'Senegal', 'Ecuador', 'Netherlands'], dtype=object),\n",
       " 'home_score': array([[2],\n",
       "        [0],\n",
       "        [1],\n",
       "        [0],\n",
       "        [1],\n",
       "        [1],\n",
       "        [0],\n",
       "        [0]], dtype=uint8),\n",
       " 'away_score': array([[0],\n",
       "        [3],\n",
       "        [0],\n",
       "        [1],\n",
       "        [7],\n",
       "        [0],\n",
       "        [2],\n",
       "        [2]], dtype=uint8)}"
      ]
     },
     "execution_count": 11,
     "metadata": {},
     "output_type": "execute_result"
    }
   ],
   "source": [
    "test.groups[\"A\"].results"
   ]
  },
  {
   "cell_type": "code",
   "execution_count": 12,
   "id": "e4f62bb4",
   "metadata": {},
   "outputs": [
    {
     "name": "stdout",
     "output_type": "stream",
     "text": [
      "R16\n",
      "0.8895771503448486\n",
      "QF\n",
      "0.7741060256958008\n",
      "SF\n",
      "0.6325976848602295\n",
      "F\n",
      "0.5990719795227051\n"
     ]
    }
   ],
   "source": [
    "test.play_knockout_stages(wc_pred)"
   ]
  },
  {
   "cell_type": "code",
   "execution_count": 13,
   "id": "c1ac5a16",
   "metadata": {},
   "outputs": [
    {
     "data": {
      "text/plain": [
       "{'home_team': array(['Qatar', 'Senegal', 'Netherlands', 'Qatar', 'Qatar', 'Ecuador',\n",
       "        'Qatar', 'Senegal'], dtype=object),\n",
       " 'away_team': array(['Ecuador', 'Netherlands', 'Ecuador', 'Senegal', 'Netherlands',\n",
       "        'Senegal', 'Ecuador', 'Netherlands'], dtype=object),\n",
       " 'home_score': array([[2],\n",
       "        [0],\n",
       "        [1],\n",
       "        [0],\n",
       "        [1],\n",
       "        [1],\n",
       "        [0],\n",
       "        [0]], dtype=uint8),\n",
       " 'away_score': array([[0],\n",
       "        [3],\n",
       "        [0],\n",
       "        [1],\n",
       "        [7],\n",
       "        [0],\n",
       "        [2],\n",
       "        [2]], dtype=uint8)}"
      ]
     },
     "execution_count": 13,
     "metadata": {},
     "output_type": "execute_result"
    }
   ],
   "source": [
    "test.groups[\"A\"].results"
   ]
  },
  {
   "cell_type": "markdown",
   "id": "697f7c48",
   "metadata": {},
   "source": [
    "We can see the results already from this world cup"
   ]
  },
  {
   "cell_type": "code",
   "execution_count": 14,
   "id": "cd097323",
   "metadata": {},
   "outputs": [
    {
     "data": {
      "text/html": [
       "<div>\n",
       "<style scoped>\n",
       "    .dataframe tbody tr th:only-of-type {\n",
       "        vertical-align: middle;\n",
       "    }\n",
       "\n",
       "    .dataframe tbody tr th {\n",
       "        vertical-align: top;\n",
       "    }\n",
       "\n",
       "    .dataframe thead th {\n",
       "        text-align: right;\n",
       "    }\n",
       "</style>\n",
       "<table border=\"1\" class=\"dataframe\">\n",
       "  <thead>\n",
       "    <tr style=\"text-align: right;\">\n",
       "      <th></th>\n",
       "      <th>date</th>\n",
       "      <th>home_team</th>\n",
       "      <th>away_team</th>\n",
       "      <th>home_score</th>\n",
       "      <th>away_score</th>\n",
       "      <th>tournament</th>\n",
       "      <th>city</th>\n",
       "      <th>country</th>\n",
       "      <th>neutral</th>\n",
       "      <th>time_diff</th>\n",
       "      <th>game_weight</th>\n",
       "    </tr>\n",
       "  </thead>\n",
       "  <tbody>\n",
       "    <tr>\n",
       "      <th>0</th>\n",
       "      <td>2022-11-20</td>\n",
       "      <td>Qatar</td>\n",
       "      <td>Ecuador</td>\n",
       "      <td>0</td>\n",
       "      <td>2</td>\n",
       "      <td>FIFA World Cup</td>\n",
       "      <td>Al Khor</td>\n",
       "      <td>Qatar</td>\n",
       "      <td>False</td>\n",
       "      <td>0.112329</td>\n",
       "      <td>1.0</td>\n",
       "    </tr>\n",
       "    <tr>\n",
       "      <th>1</th>\n",
       "      <td>2022-11-21</td>\n",
       "      <td>Senegal</td>\n",
       "      <td>Netherlands</td>\n",
       "      <td>0</td>\n",
       "      <td>2</td>\n",
       "      <td>FIFA World Cup</td>\n",
       "      <td>Doha</td>\n",
       "      <td>Qatar</td>\n",
       "      <td>True</td>\n",
       "      <td>0.109589</td>\n",
       "      <td>1.0</td>\n",
       "    </tr>\n",
       "    <tr>\n",
       "      <th>2</th>\n",
       "      <td>2022-11-21</td>\n",
       "      <td>England</td>\n",
       "      <td>Iran</td>\n",
       "      <td>6</td>\n",
       "      <td>2</td>\n",
       "      <td>FIFA World Cup</td>\n",
       "      <td>Al Rayyan</td>\n",
       "      <td>Qatar</td>\n",
       "      <td>True</td>\n",
       "      <td>0.109589</td>\n",
       "      <td>1.0</td>\n",
       "    </tr>\n",
       "    <tr>\n",
       "      <th>3</th>\n",
       "      <td>2022-11-21</td>\n",
       "      <td>USA</td>\n",
       "      <td>Wales</td>\n",
       "      <td>1</td>\n",
       "      <td>1</td>\n",
       "      <td>FIFA World Cup</td>\n",
       "      <td>Al Rayyan</td>\n",
       "      <td>Qatar</td>\n",
       "      <td>True</td>\n",
       "      <td>0.109589</td>\n",
       "      <td>1.0</td>\n",
       "    </tr>\n",
       "    <tr>\n",
       "      <th>4</th>\n",
       "      <td>2022-11-22</td>\n",
       "      <td>Argentina</td>\n",
       "      <td>Saudi Arabia</td>\n",
       "      <td>1</td>\n",
       "      <td>2</td>\n",
       "      <td>FIFA World Cup</td>\n",
       "      <td>Lusail</td>\n",
       "      <td>Qatar</td>\n",
       "      <td>True</td>\n",
       "      <td>0.106849</td>\n",
       "      <td>1.0</td>\n",
       "    </tr>\n",
       "    <tr>\n",
       "      <th>5</th>\n",
       "      <td>2022-11-22</td>\n",
       "      <td>Mexico</td>\n",
       "      <td>Poland</td>\n",
       "      <td>0</td>\n",
       "      <td>0</td>\n",
       "      <td>FIFA World Cup</td>\n",
       "      <td>Doha</td>\n",
       "      <td>Qatar</td>\n",
       "      <td>True</td>\n",
       "      <td>0.106849</td>\n",
       "      <td>1.0</td>\n",
       "    </tr>\n",
       "    <tr>\n",
       "      <th>6</th>\n",
       "      <td>2022-11-22</td>\n",
       "      <td>Denmark</td>\n",
       "      <td>Tunisia</td>\n",
       "      <td>0</td>\n",
       "      <td>0</td>\n",
       "      <td>FIFA World Cup</td>\n",
       "      <td>Al Rayyan</td>\n",
       "      <td>Qatar</td>\n",
       "      <td>True</td>\n",
       "      <td>0.106849</td>\n",
       "      <td>1.0</td>\n",
       "    </tr>\n",
       "    <tr>\n",
       "      <th>7</th>\n",
       "      <td>2022-11-22</td>\n",
       "      <td>France</td>\n",
       "      <td>Australia</td>\n",
       "      <td>4</td>\n",
       "      <td>1</td>\n",
       "      <td>FIFA World Cup</td>\n",
       "      <td>Al Wakrah</td>\n",
       "      <td>Qatar</td>\n",
       "      <td>True</td>\n",
       "      <td>0.106849</td>\n",
       "      <td>1.0</td>\n",
       "    </tr>\n",
       "    <tr>\n",
       "      <th>8</th>\n",
       "      <td>2022-11-23</td>\n",
       "      <td>Germany</td>\n",
       "      <td>Japan</td>\n",
       "      <td>1</td>\n",
       "      <td>2</td>\n",
       "      <td>FIFA World Cup</td>\n",
       "      <td>Al Rayyan</td>\n",
       "      <td>Qatar</td>\n",
       "      <td>True</td>\n",
       "      <td>0.104110</td>\n",
       "      <td>1.0</td>\n",
       "    </tr>\n",
       "    <tr>\n",
       "      <th>9</th>\n",
       "      <td>2022-11-23</td>\n",
       "      <td>Spain</td>\n",
       "      <td>Costa Rica</td>\n",
       "      <td>7</td>\n",
       "      <td>0</td>\n",
       "      <td>FIFA World Cup</td>\n",
       "      <td>Doha</td>\n",
       "      <td>Qatar</td>\n",
       "      <td>True</td>\n",
       "      <td>0.104110</td>\n",
       "      <td>1.0</td>\n",
       "    </tr>\n",
       "    <tr>\n",
       "      <th>10</th>\n",
       "      <td>2022-11-23</td>\n",
       "      <td>Morocco</td>\n",
       "      <td>Croatia</td>\n",
       "      <td>0</td>\n",
       "      <td>0</td>\n",
       "      <td>FIFA World Cup</td>\n",
       "      <td>Al Khor</td>\n",
       "      <td>Qatar</td>\n",
       "      <td>True</td>\n",
       "      <td>0.104110</td>\n",
       "      <td>1.0</td>\n",
       "    </tr>\n",
       "    <tr>\n",
       "      <th>11</th>\n",
       "      <td>2022-11-23</td>\n",
       "      <td>Belgium</td>\n",
       "      <td>Canada</td>\n",
       "      <td>1</td>\n",
       "      <td>0</td>\n",
       "      <td>FIFA World Cup</td>\n",
       "      <td>Al Rayyan</td>\n",
       "      <td>Qatar</td>\n",
       "      <td>True</td>\n",
       "      <td>0.104110</td>\n",
       "      <td>1.0</td>\n",
       "    </tr>\n",
       "    <tr>\n",
       "      <th>12</th>\n",
       "      <td>2022-11-24</td>\n",
       "      <td>Switzerland</td>\n",
       "      <td>Cameroon</td>\n",
       "      <td>1</td>\n",
       "      <td>0</td>\n",
       "      <td>FIFA World Cup</td>\n",
       "      <td>Al Wakrah</td>\n",
       "      <td>Qatar</td>\n",
       "      <td>True</td>\n",
       "      <td>0.101370</td>\n",
       "      <td>1.0</td>\n",
       "    </tr>\n",
       "    <tr>\n",
       "      <th>13</th>\n",
       "      <td>2022-11-24</td>\n",
       "      <td>Brazil</td>\n",
       "      <td>Serbia</td>\n",
       "      <td>2</td>\n",
       "      <td>0</td>\n",
       "      <td>FIFA World Cup</td>\n",
       "      <td>Lusail</td>\n",
       "      <td>Qatar</td>\n",
       "      <td>True</td>\n",
       "      <td>0.101370</td>\n",
       "      <td>1.0</td>\n",
       "    </tr>\n",
       "    <tr>\n",
       "      <th>14</th>\n",
       "      <td>2022-11-24</td>\n",
       "      <td>Uruguay</td>\n",
       "      <td>South Korea</td>\n",
       "      <td>0</td>\n",
       "      <td>0</td>\n",
       "      <td>FIFA World Cup</td>\n",
       "      <td>Al Rayyan</td>\n",
       "      <td>Qatar</td>\n",
       "      <td>True</td>\n",
       "      <td>0.101370</td>\n",
       "      <td>1.0</td>\n",
       "    </tr>\n",
       "    <tr>\n",
       "      <th>15</th>\n",
       "      <td>2022-11-24</td>\n",
       "      <td>Portugal</td>\n",
       "      <td>Ghana</td>\n",
       "      <td>3</td>\n",
       "      <td>2</td>\n",
       "      <td>FIFA World Cup</td>\n",
       "      <td>Doha</td>\n",
       "      <td>Qatar</td>\n",
       "      <td>True</td>\n",
       "      <td>0.101370</td>\n",
       "      <td>1.0</td>\n",
       "    </tr>\n",
       "  </tbody>\n",
       "</table>\n",
       "</div>"
      ],
      "text/plain": [
       "         date    home_team     away_team  home_score  away_score  \\\n",
       "0  2022-11-20        Qatar       Ecuador           0           2   \n",
       "1  2022-11-21      Senegal   Netherlands           0           2   \n",
       "2  2022-11-21      England          Iran           6           2   \n",
       "3  2022-11-21          USA         Wales           1           1   \n",
       "4  2022-11-22    Argentina  Saudi Arabia           1           2   \n",
       "5  2022-11-22       Mexico        Poland           0           0   \n",
       "6  2022-11-22      Denmark       Tunisia           0           0   \n",
       "7  2022-11-22       France     Australia           4           1   \n",
       "8  2022-11-23      Germany         Japan           1           2   \n",
       "9  2022-11-23        Spain    Costa Rica           7           0   \n",
       "10 2022-11-23      Morocco       Croatia           0           0   \n",
       "11 2022-11-23      Belgium        Canada           1           0   \n",
       "12 2022-11-24  Switzerland      Cameroon           1           0   \n",
       "13 2022-11-24       Brazil        Serbia           2           0   \n",
       "14 2022-11-24      Uruguay   South Korea           0           0   \n",
       "15 2022-11-24     Portugal         Ghana           3           2   \n",
       "\n",
       "        tournament       city country  neutral  time_diff  game_weight  \n",
       "0   FIFA World Cup    Al Khor   Qatar    False   0.112329          1.0  \n",
       "1   FIFA World Cup       Doha   Qatar     True   0.109589          1.0  \n",
       "2   FIFA World Cup  Al Rayyan   Qatar     True   0.109589          1.0  \n",
       "3   FIFA World Cup  Al Rayyan   Qatar     True   0.109589          1.0  \n",
       "4   FIFA World Cup     Lusail   Qatar     True   0.106849          1.0  \n",
       "5   FIFA World Cup       Doha   Qatar     True   0.106849          1.0  \n",
       "6   FIFA World Cup  Al Rayyan   Qatar     True   0.106849          1.0  \n",
       "7   FIFA World Cup  Al Wakrah   Qatar     True   0.106849          1.0  \n",
       "8   FIFA World Cup  Al Rayyan   Qatar     True   0.104110          1.0  \n",
       "9   FIFA World Cup       Doha   Qatar     True   0.104110          1.0  \n",
       "10  FIFA World Cup    Al Khor   Qatar     True   0.104110          1.0  \n",
       "11  FIFA World Cup  Al Rayyan   Qatar     True   0.104110          1.0  \n",
       "12  FIFA World Cup  Al Wakrah   Qatar     True   0.101370          1.0  \n",
       "13  FIFA World Cup     Lusail   Qatar     True   0.101370          1.0  \n",
       "14  FIFA World Cup  Al Rayyan   Qatar     True   0.101370          1.0  \n",
       "15  FIFA World Cup       Doha   Qatar     True   0.101370          1.0  "
      ]
     },
     "execution_count": 14,
     "metadata": {},
     "output_type": "execute_result"
    }
   ],
   "source": [
    "test.results_df"
   ]
  },
  {
   "cell_type": "code",
   "execution_count": null,
   "id": "162727cf",
   "metadata": {},
   "outputs": [],
   "source": []
  }
 ],
 "metadata": {
  "kernelspec": {
   "display_name": "wcenv",
   "language": "python",
   "name": "wcenv"
  },
  "language_info": {
   "codemirror_mode": {
    "name": "ipython",
    "version": 3
   },
   "file_extension": ".py",
   "mimetype": "text/x-python",
   "name": "python",
   "nbconvert_exporter": "python",
   "pygments_lexer": "ipython3",
   "version": "3.10.6"
  }
 },
 "nbformat": 4,
 "nbformat_minor": 5
}
