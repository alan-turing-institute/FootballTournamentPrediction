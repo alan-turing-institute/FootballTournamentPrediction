{
 "cells": [
  {
   "cell_type": "code",
   "execution_count": 1,
   "id": "51bdf906",
   "metadata": {},
   "outputs": [],
   "source": [
    "import numpy as np\n",
    "import pandas as pd\n",
    "import bpl"
   ]
  },
  {
   "cell_type": "code",
   "execution_count": 2,
   "id": "3c579bcb",
   "metadata": {},
   "outputs": [],
   "source": [
    "import sys\n",
    "sys.path.append('../src/')\n",
    "from bpl_interface import *\n",
    "from tournament import *"
   ]
  },
  {
   "cell_type": "code",
   "execution_count": 3,
   "id": "8679d7b9",
   "metadata": {},
   "outputs": [],
   "source": [
    "results = pd.read_csv('../data/results.csv', parse_dates=['date'])\n",
    "results_since_2018_wc = pd.read_csv('../data/match_results_since_2018.csv', parse_dates=['date'])\n",
    "wc_teams = pd.read_csv('../data/teams.csv')\n",
    "fifa_rankings = pd.read_csv('../data/fifa_rankings.csv')\n",
    "fixtures = pd.read_csv('../data/fixtures.csv')"
   ]
  },
  {
   "cell_type": "markdown",
   "id": "540cc995",
   "metadata": {},
   "source": [
    "Initialise the world cup predictor by passing in only results since the last world cup and fit the model only considering games between the teams in the world cup. We do this because:\n",
    "* we don't fit parameters to teams that aren't in the world cup\n",
    "* we can pass in fifa rankings"
   ]
  },
  {
   "cell_type": "code",
   "execution_count": 4,
   "id": "659f3b99",
   "metadata": {},
   "outputs": [],
   "source": [
    "wc_pred = WCPred(results = results_since_2018_wc,\n",
    "                 teams = list(wc_teams.Team),\n",
    "                 ratings = fifa_rankings)"
   ]
  },
  {
   "cell_type": "markdown",
   "id": "c59c4acd",
   "metadata": {},
   "source": [
    "Note that we can fit the model by doing `wc_pred.set_training_data()` and `wc_pred.fit_model()`. These will put training data in `wc_pred.training_data` and the model in `wc_pred.model`.\n",
    "\n",
    "Now, initialise the tournament:"
   ]
  },
  {
   "cell_type": "code",
   "execution_count": 5,
   "id": "d2936349",
   "metadata": {},
   "outputs": [],
   "source": [
    "tourn = Tournament()"
   ]
  },
  {
   "cell_type": "markdown",
   "id": "ec1c3a2c",
   "metadata": {},
   "source": [
    "Running these last two cells will keep on giving you different answers (the prediction of the games using the model will predict different scorelines and different outcomes from each of the group and knockout games).\n",
    "\n",
    "It will make predictions based on the model fitted in `wc_pred`."
   ]
  },
  {
   "cell_type": "code",
   "execution_count": 10,
   "id": "6053e36b",
   "metadata": {
    "scrolled": false
   },
   "outputs": [
    {
     "name": "stdout",
     "output_type": "stream",
     "text": [
      "Portugal vs Ghana\n",
      "Uruguay vs South Korea\n",
      "Portugal vs Uruguay\n",
      "South Korea vs Ghana\n",
      "South Korea vs Portugal\n",
      "Ghana vs Uruguay\n",
      "Morocco vs Croatia\n",
      "Belgium vs Canada\n",
      "Croatia vs Canada\n",
      "Belgium vs Morocco\n",
      "Canada vs Morocco\n",
      "Croatia vs Belgium\n",
      "Brazil vs Serbia\n",
      "Switzerland vs Cameroon\n",
      "Brazil vs Switzerland\n",
      "Cameroon vs Serbia\n",
      "Cameroon vs Brazil\n",
      "Serbia vs Switzerland\n",
      "Argentina vs Saudi Arabia\n",
      "Mexico vs Poland\n",
      "Argentina vs Mexico\n",
      "Poland vs Saudi Arabia\n",
      "Saudi Arabia vs Mexico\n",
      "Poland vs Argentina\n",
      "England vs Iran\n",
      "USA vs Wales\n",
      "England vs USA\n",
      "Wales vs Iran\n",
      "Iran vs USA\n",
      "Wales vs England\n",
      "Germany vs Japan\n",
      "Spain vs Costa Rica\n",
      "Spain vs Germany\n",
      "Japan vs Costa Rica\n",
      "Costa Rica vs Germany\n",
      "Japan vs Spain\n",
      "Denmark vs Tunisia\n",
      "France vs Australia\n",
      "France vs Denmark\n",
      "Tunisia vs Australia\n",
      "Tunisia vs France\n",
      "Australia vs Denmark\n",
      "Qatar vs Ecuador\n",
      "Senegal vs Netherlands\n",
      "Netherlands vs Ecuador\n",
      "Qatar vs Senegal\n",
      "Netherlands vs Qatar\n",
      "Ecuador vs Senegal\n"
     ]
    }
   ],
   "source": [
    "tourn.play_group_stage(wc_pred)"
   ]
  },
  {
   "cell_type": "code",
   "execution_count": 11,
   "id": "b2b60723",
   "metadata": {
    "scrolled": false
   },
   "outputs": [
    {
     "name": "stdout",
     "output_type": "stream",
     "text": [
      " Group H has only played 18 matches\n",
      "Sorting ['Portugal', 'Ghana', 'Uruguay', 'South Korea'] using points to fill positions ['1st', '2nd', '3rd', '4th']\n",
      "TEAM LIST [{'team': 'Portugal', 'points': 20, 'goals_for': 19, 'goals_against': 8, 'goal_difference': 11}, {'team': 'South Korea', 'points': 14, 'goals_for': 7, 'goals_against': 7, 'goal_difference': 0}, {'team': 'Ghana', 'points': 8, 'goals_for': 10, 'goals_against': 15, 'goal_difference': -5}, {'team': 'Uruguay', 'points': 8, 'goals_for': 9, 'goals_against': 15, 'goal_difference': -6}]\n",
      "Putting Portugal in 1st\n",
      "Putting South Korea in 2nd\n",
      "Sorting ['Ghana', 'Uruguay'] using goal_difference to fill positions ['3rd', '4th']\n",
      "Putting Ghana in 3rd\n",
      "Putting Uruguay in 4th\n",
      " Group F has only played 18 matches\n",
      "Sorting ['Belgium', 'Canada', 'Morocco', 'Croatia'] using points to fill positions ['1st', '2nd', '3rd', '4th']\n",
      "TEAM LIST [{'team': 'Canada', 'points': 17, 'goals_for': 17, 'goals_against': 7, 'goal_difference': 10}, {'team': 'Croatia', 'points': 14, 'goals_for': 7, 'goals_against': 12, 'goal_difference': -5}, {'team': 'Morocco', 'points': 11, 'goals_for': 7, 'goals_against': 7, 'goal_difference': 0}, {'team': 'Belgium', 'points': 7, 'goals_for': 7, 'goals_against': 12, 'goal_difference': -5}]\n",
      "Putting Canada in 1st\n",
      "Putting Croatia in 2nd\n",
      "Putting Morocco in 3rd\n",
      "Putting Belgium in 4th\n",
      " Group G has only played 18 matches\n",
      "Sorting ['Brazil', 'Serbia', 'Switzerland', 'Cameroon'] using points to fill positions ['1st', '2nd', '3rd', '4th']\n",
      "TEAM LIST [{'team': 'Switzerland', 'points': 16, 'goals_for': 10, 'goals_against': 7, 'goal_difference': 3}, {'team': 'Serbia', 'points': 15, 'goals_for': 11, 'goals_against': 11, 'goal_difference': 0}, {'team': 'Brazil', 'points': 12, 'goals_for': 11, 'goals_against': 10, 'goal_difference': 1}, {'team': 'Cameroon', 'points': 8, 'goals_for': 2, 'goals_against': 6, 'goal_difference': -4}]\n",
      "Putting Switzerland in 1st\n",
      "Putting Serbia in 2nd\n",
      "Putting Brazil in 3rd\n",
      "Putting Cameroon in 4th\n",
      " Group C has only played 18 matches\n",
      "Sorting ['Argentina', 'Saudi Arabia', 'Mexico', 'Poland'] using points to fill positions ['1st', '2nd', '3rd', '4th']\n",
      "TEAM LIST [{'team': 'Poland', 'points': 16, 'goals_for': 13, 'goals_against': 8, 'goal_difference': 5}, {'team': 'Mexico', 'points': 12, 'goals_for': 9, 'goals_against': 11, 'goal_difference': -2}, {'team': 'Argentina', 'points': 11, 'goals_for': 15, 'goals_against': 13, 'goal_difference': 2}, {'team': 'Saudi Arabia', 'points': 11, 'goals_for': 9, 'goals_against': 14, 'goal_difference': -5}]\n",
      "Putting Poland in 1st\n",
      "Putting Mexico in 2nd\n",
      "Sorting ['Argentina', 'Saudi Arabia'] using goal_difference to fill positions ['3rd', '4th']\n",
      "Putting Argentina in 3rd\n",
      "Putting Saudi Arabia in 4th\n",
      " Group B has only played 18 matches\n",
      "Sorting ['England', 'Iran', 'USA', 'Wales'] using points to fill positions ['1st', '2nd', '3rd', '4th']\n",
      "TEAM LIST [{'team': 'Wales', 'points': 16, 'goals_for': 7, 'goals_against': 3, 'goal_difference': 4}, {'team': 'USA', 'points': 13, 'goals_for': 11, 'goals_against': 9, 'goal_difference': 2}, {'team': 'Iran', 'points': 12, 'goals_for': 7, 'goals_against': 7, 'goal_difference': 0}, {'team': 'England', 'points': 5, 'goals_for': 6, 'goals_against': 12, 'goal_difference': -6}]\n",
      "Putting Wales in 1st\n",
      "Putting USA in 2nd\n",
      "Putting Iran in 3rd\n",
      "Putting England in 4th\n",
      " Group E has only played 18 matches\n",
      "Sorting ['Spain', 'Costa Rica', 'Germany', 'Japan'] using points to fill positions ['1st', '2nd', '3rd', '4th']\n",
      "TEAM LIST [{'team': 'Costa Rica', 'points': 16, 'goals_for': 18, 'goals_against': 13, 'goal_difference': 5}, {'team': 'Germany', 'points': 13, 'goals_for': 13, 'goals_against': 12, 'goal_difference': 1}, {'team': 'Spain', 'points': 12, 'goals_for': 17, 'goals_against': 19, 'goal_difference': -2}, {'team': 'Japan', 'points': 7, 'goals_for': 10, 'goals_against': 14, 'goal_difference': -4}]\n",
      "Putting Costa Rica in 1st\n",
      "Putting Germany in 2nd\n",
      "Putting Spain in 3rd\n",
      "Putting Japan in 4th\n",
      " Group D has only played 18 matches\n",
      "Sorting ['France', 'Australia', 'Denmark', 'Tunisia'] using points to fill positions ['1st', '2nd', '3rd', '4th']\n",
      "TEAM LIST [{'team': 'France', 'points': 18, 'goals_for': 13, 'goals_against': 7, 'goal_difference': 6}, {'team': 'Australia', 'points': 15, 'goals_for': 11, 'goals_against': 9, 'goal_difference': 2}, {'team': 'Tunisia', 'points': 10, 'goals_for': 11, 'goals_against': 11, 'goal_difference': 0}, {'team': 'Denmark', 'points': 4, 'goals_for': 9, 'goals_against': 17, 'goal_difference': -8}]\n",
      "Putting France in 1st\n",
      "Putting Australia in 2nd\n",
      "Putting Tunisia in 3rd\n",
      "Putting Denmark in 4th\n",
      " Group A has only played 18 matches\n",
      "Sorting ['Qatar', 'Ecuador', 'Senegal', 'Netherlands'] using points to fill positions ['1st', '2nd', '3rd', '4th']\n",
      "TEAM LIST [{'team': 'Netherlands', 'points': 15, 'goals_for': 19, 'goals_against': 14, 'goal_difference': 5}, {'team': 'Qatar', 'points': 14, 'goals_for': 14, 'goals_against': 13, 'goal_difference': 1}, {'team': 'Senegal', 'points': 12, 'goals_for': 5, 'goals_against': 6, 'goal_difference': -1}, {'team': 'Ecuador', 'points': 6, 'goals_for': 9, 'goals_against': 14, 'goal_difference': -5}]\n",
      "Putting Netherlands in 1st\n",
      "Putting Qatar in 2nd\n",
      "Putting Senegal in 3rd\n",
      "Putting Ecuador in 4th\n",
      "====== WINNER: France =======\n"
     ]
    }
   ],
   "source": [
    "tourn.play_knockout_stages(wc_pred)"
   ]
  },
  {
   "cell_type": "code",
   "execution_count": null,
   "id": "d361b7a0",
   "metadata": {},
   "outputs": [],
   "source": []
  }
 ],
 "metadata": {
  "kernelspec": {
   "display_name": "wcenv",
   "language": "python",
   "name": "wcenv"
  },
  "language_info": {
   "codemirror_mode": {
    "name": "ipython",
    "version": 3
   },
   "file_extension": ".py",
   "mimetype": "text/x-python",
   "name": "python",
   "nbconvert_exporter": "python",
   "pygments_lexer": "ipython3",
   "version": "3.10.6"
  }
 },
 "nbformat": 4,
 "nbformat_minor": 5
}
