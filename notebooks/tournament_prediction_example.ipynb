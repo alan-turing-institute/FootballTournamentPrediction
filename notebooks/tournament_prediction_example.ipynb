{
 "cells": [
  {
   "cell_type": "code",
   "execution_count": 1,
   "id": "70b3b03b",
   "metadata": {},
   "outputs": [],
   "source": [
    "import numpy as np\n",
    "import pandas as pd\n",
    "import bpl"
   ]
  },
  {
   "cell_type": "code",
   "execution_count": 2,
   "id": "37c8314c",
   "metadata": {},
   "outputs": [],
   "source": [
    "import sys\n",
    "sys.path.append('../src/')\n",
    "from bpl_interface import *\n",
    "from tournament import *"
   ]
  },
  {
   "cell_type": "code",
   "execution_count": 3,
   "id": "8c001451",
   "metadata": {},
   "outputs": [],
   "source": [
    "results = pd.read_csv('../data/results.csv', parse_dates=['date'])\n",
    "results_since_2018_wc = pd.read_csv('../data/match_results_since_2018.csv', parse_dates=['date'])\n",
    "wc_teams = pd.read_csv('../data/teams.csv')\n",
    "fifa_rankings = pd.read_csv('../data/fifa_rankings.csv')\n",
    "fixtures = pd.read_csv('../data/fixtures.csv')"
   ]
  },
  {
   "cell_type": "markdown",
   "id": "92d4b3ab",
   "metadata": {},
   "source": [
    "Initialise the world cup predictor by passing in only results since the last world cup and fit the model only considering games between the teams in the world cup. We do this because:\n",
    "* we don't fit parameters to teams that aren't in the world cup\n",
    "* we can pass in fifa rankings"
   ]
  },
  {
   "cell_type": "code",
   "execution_count": 4,
   "id": "0ce5fb19",
   "metadata": {},
   "outputs": [],
   "source": [
    "wc_pred = WCPred(results = results_since_2018_wc,\n",
    "                 teams = list(wc_teams.Team),\n",
    "                 ratings = fifa_rankings)"
   ]
  },
  {
   "cell_type": "markdown",
   "id": "eebff3c1",
   "metadata": {},
   "source": [
    "Note that we can fit the model by doing `wc_pred.set_training_data()` and `wc_pred.fit_model()`. These will put training data in `wc_pred.training_data` and the model in `wc_pred.model`.\n",
    "\n",
    "Now, initialise the tournament:"
   ]
  },
  {
   "cell_type": "code",
   "execution_count": 5,
   "id": "9bb24c62",
   "metadata": {},
   "outputs": [],
   "source": [
    "tourn = Tournament()"
   ]
  },
  {
   "cell_type": "markdown",
   "id": "dd5b1a15",
   "metadata": {},
   "source": [
    "Running these last two cells will keep on giving you different answers (the prediction of the games using the model will predict different scorelines and different outcomes from each of the group and knockout games).\n",
    "\n",
    "It will make predictions based on the model fitted in `wc_pred`."
   ]
  },
  {
   "cell_type": "code",
   "execution_count": 6,
   "id": "b6b0e631",
   "metadata": {
    "scrolled": false
   },
   "outputs": [
    {
     "name": "stdout",
     "output_type": "stream",
     "text": [
      "Portugal vs Ghana\n",
      "[MODEL FITTING] Setting training data for the model\n",
      "[MODEL FITTING] Fitting the model\n"
     ]
    },
    {
     "name": "stderr",
     "output_type": "stream",
     "text": [
      "sample: 100%|███████████████████████████████████████████████| 1500/1500 [00:06<00:00, 244.66it/s, 63 steps of size 5.81e-02. acc. prob=0.93]\n"
     ]
    },
    {
     "name": "stdout",
     "output_type": "stream",
     "text": [
      "Uruguay vs South Korea\n",
      "Portugal vs Uruguay\n",
      "South Korea vs Ghana\n",
      "South Korea vs Portugal\n",
      "Ghana vs Uruguay\n",
      "Morocco vs Croatia\n",
      "Belgium vs Canada\n",
      "Croatia vs Canada\n",
      "Belgium vs Morocco\n",
      "Canada vs Morocco\n",
      "Croatia vs Belgium\n",
      "Brazil vs Serbia\n",
      "Switzerland vs Cameroon\n",
      "Brazil vs Switzerland\n",
      "Cameroon vs Serbia\n",
      "Cameroon vs Brazil\n",
      "Serbia vs Switzerland\n",
      "Argentina vs Saudi Arabia\n",
      "Mexico vs Poland\n",
      "Argentina vs Mexico\n",
      "Poland vs Saudi Arabia\n",
      "Saudi Arabia vs Mexico\n",
      "Poland vs Argentina\n",
      "England vs Iran\n",
      "USA vs Wales\n",
      "England vs USA\n",
      "Wales vs Iran\n",
      "Iran vs USA\n",
      "Wales vs England\n",
      "Germany vs Japan\n",
      "Spain vs Costa Rica\n",
      "Spain vs Germany\n",
      "Japan vs Costa Rica\n",
      "Costa Rica vs Germany\n",
      "Japan vs Spain\n",
      "Denmark vs Tunisia\n",
      "France vs Australia\n",
      "France vs Denmark\n",
      "Tunisia vs Australia\n",
      "Tunisia vs France\n",
      "Australia vs Denmark\n",
      "Qatar vs Ecuador\n",
      "Senegal vs Netherlands\n",
      "Netherlands vs Ecuador\n",
      "Qatar vs Senegal\n",
      "Netherlands vs Qatar\n",
      "Ecuador vs Senegal\n"
     ]
    }
   ],
   "source": [
    "tourn.play_group_stage(wc_pred)"
   ]
  },
  {
   "cell_type": "code",
   "execution_count": 7,
   "id": "4e954d4c",
   "metadata": {
    "scrolled": false
   },
   "outputs": [
    {
     "name": "stdout",
     "output_type": "stream",
     "text": [
      "Sorting ['Portugal', 'Ghana', 'Uruguay', 'South Korea'] using points to fill positions ['1st', '2nd', '3rd', '4th']\n",
      "TEAM LIST [{'team': 'Portugal', 'points': 9, 'goals_for': 10, 'goals_against': 3, 'goal_difference': 7}, {'team': 'South Korea', 'points': 6, 'goals_for': 3, 'goals_against': 2, 'goal_difference': 1}, {'team': 'Uruguay', 'points': 3, 'goals_for': 3, 'goals_against': 8, 'goal_difference': -5}, {'team': 'Ghana', 'points': 0, 'goals_for': 2, 'goals_against': 5, 'goal_difference': -3}]\n",
      "Putting Portugal in 1st\n",
      "Putting South Korea in 2nd\n",
      "Putting Uruguay in 3rd\n",
      "Putting Ghana in 4th\n",
      "Sorting ['Belgium', 'Canada', 'Morocco', 'Croatia'] using points to fill positions ['1st', '2nd', '3rd', '4th']\n",
      "TEAM LIST [{'team': 'Croatia', 'points': 7, 'goals_for': 3, 'goals_against': 0, 'goal_difference': 3}, {'team': 'Morocco', 'points': 4, 'goals_for': 2, 'goals_against': 2, 'goal_difference': 0}, {'team': 'Belgium', 'points': 2, 'goals_for': 0, 'goals_against': 1, 'goal_difference': -1}, {'team': 'Canada', 'points': 2, 'goals_for': 0, 'goals_against': 2, 'goal_difference': -2}]\n",
      "Putting Croatia in 1st\n",
      "Putting Morocco in 2nd\n",
      "Sorting ['Belgium', 'Canada'] using goal_difference to fill positions ['3rd', '4th']\n",
      "Putting Belgium in 3rd\n",
      "Putting Canada in 4th\n",
      "Sorting ['Brazil', 'Serbia', 'Switzerland', 'Cameroon'] using points to fill positions ['1st', '2nd', '3rd', '4th']\n",
      "TEAM LIST [{'team': 'Switzerland', 'points': 9, 'goals_for': 6, 'goals_against': 1, 'goal_difference': 5}, {'team': 'Serbia', 'points': 6, 'goals_for': 3, 'goals_against': 2, 'goal_difference': 1}, {'team': 'Brazil', 'points': 1, 'goals_for': 1, 'goals_against': 4, 'goal_difference': -3}, {'team': 'Cameroon', 'points': 1, 'goals_for': 0, 'goals_against': 3, 'goal_difference': -3}]\n",
      "Putting Switzerland in 1st\n",
      "Putting Serbia in 2nd\n",
      "Sorting ['Brazil', 'Cameroon'] using goal_difference to fill positions ['3rd', '4th']\n",
      "Sorting ['Brazil', 'Cameroon'] using goals_for to fill positions ['3rd', '4th']\n",
      "Putting Brazil in 3rd\n",
      "Putting Cameroon in 4th\n",
      "Sorting ['Argentina', 'Saudi Arabia', 'Mexico', 'Poland'] using points to fill positions ['1st', '2nd', '3rd', '4th']\n",
      "TEAM LIST [{'team': 'Poland', 'points': 9, 'goals_for': 7, 'goals_against': 1, 'goal_difference': 6}, {'team': 'Argentina', 'points': 6, 'goals_for': 7, 'goals_against': 3, 'goal_difference': 4}, {'team': 'Saudi Arabia', 'points': 1, 'goals_for': 1, 'goals_against': 7, 'goal_difference': -6}, {'team': 'Mexico', 'points': 1, 'goals_for': 2, 'goals_against': 6, 'goal_difference': -4}]\n",
      "Putting Poland in 1st\n",
      "Putting Argentina in 2nd\n",
      "Sorting ['Saudi Arabia', 'Mexico'] using goal_difference to fill positions ['3rd', '4th']\n",
      "Putting Mexico in 3rd\n",
      "Putting Saudi Arabia in 4th\n",
      "Sorting ['England', 'Iran', 'USA', 'Wales'] using points to fill positions ['1st', '2nd', '3rd', '4th']\n",
      "TEAM LIST [{'team': 'Wales', 'points': 5, 'goals_for': 2, 'goals_against': 1, 'goal_difference': 1}, {'team': 'Iran', 'points': 4, 'goals_for': 2, 'goals_against': 2, 'goal_difference': 0}, {'team': 'England', 'points': 3, 'goals_for': 2, 'goals_against': 2, 'goal_difference': 0}, {'team': 'USA', 'points': 2, 'goals_for': 2, 'goals_against': 3, 'goal_difference': -1}]\n",
      "Putting Wales in 1st\n",
      "Putting Iran in 2nd\n",
      "Putting England in 3rd\n",
      "Putting USA in 4th\n",
      "Sorting ['Spain', 'Costa Rica', 'Germany', 'Japan'] using points to fill positions ['1st', '2nd', '3rd', '4th']\n",
      "TEAM LIST [{'team': 'Spain', 'points': 7, 'goals_for': 8, 'goals_against': 5, 'goal_difference': 3}, {'team': 'Costa Rica', 'points': 5, 'goals_for': 6, 'goals_against': 5, 'goal_difference': 1}, {'team': 'Japan', 'points': 4, 'goals_for': 5, 'goals_against': 6, 'goal_difference': -1}, {'team': 'Germany', 'points': 0, 'goals_for': 4, 'goals_against': 7, 'goal_difference': -3}]\n",
      "Putting Spain in 1st\n",
      "Putting Costa Rica in 2nd\n",
      "Putting Japan in 3rd\n",
      "Putting Germany in 4th\n",
      "Sorting ['France', 'Australia', 'Denmark', 'Tunisia'] using points to fill positions ['1st', '2nd', '3rd', '4th']\n",
      "TEAM LIST [{'team': 'France', 'points': 5, 'goals_for': 7, 'goals_against': 4, 'goal_difference': 3}, {'team': 'Denmark', 'points': 3, 'goals_for': 7, 'goals_against': 7, 'goal_difference': 0}, {'team': 'Tunisia', 'points': 3, 'goals_for': 4, 'goals_against': 4, 'goal_difference': 0}, {'team': 'Australia', 'points': 2, 'goals_for': 3, 'goals_against': 6, 'goal_difference': -3}]\n",
      "Putting France in 1st\n",
      "Putting Australia in 4th\n",
      "Sorting ['Denmark', 'Tunisia'] using goal_difference to fill positions ['2nd', '3rd']\n",
      "Sorting ['Denmark', 'Tunisia'] using goals_for to fill positions ['2nd', '3rd']\n",
      "Putting Denmark in 2nd\n",
      "Putting Tunisia in 3rd\n",
      "Sorting ['Qatar', 'Ecuador', 'Senegal', 'Netherlands'] using points to fill positions ['1st', '2nd', '3rd', '4th']\n",
      "TEAM LIST [{'team': 'Netherlands', 'points': 7, 'goals_for': 8, 'goals_against': 3, 'goal_difference': 5}, {'team': 'Senegal', 'points': 4, 'goals_for': 2, 'goals_against': 5, 'goal_difference': -3}, {'team': 'Qatar', 'points': 3, 'goals_for': 5, 'goals_against': 5, 'goal_difference': 0}, {'team': 'Ecuador', 'points': 3, 'goals_for': 4, 'goals_against': 6, 'goal_difference': -2}]\n",
      "Putting Netherlands in 1st\n",
      "Putting Senegal in 2nd\n",
      "Sorting ['Qatar', 'Ecuador'] using goal_difference to fill positions ['3rd', '4th']\n",
      "Putting Qatar in 3rd\n",
      "Putting Ecuador in 4th\n",
      "====== WINNER: Netherlands =======\n"
     ]
    }
   ],
   "source": [
    "tourn.play_knockout_stages(wc_pred)"
   ]
  },
  {
   "cell_type": "code",
   "execution_count": null,
   "id": "bf6c0cc7",
   "metadata": {},
   "outputs": [],
   "source": []
  }
 ],
 "metadata": {
  "kernelspec": {
   "display_name": "wcenv",
   "language": "python",
   "name": "wcenv"
  },
  "language_info": {
   "codemirror_mode": {
    "name": "ipython",
    "version": 3
   },
   "file_extension": ".py",
   "mimetype": "text/x-python",
   "name": "python",
   "nbconvert_exporter": "python",
   "pygments_lexer": "ipython3",
   "version": "3.10.6"
  }
 },
 "nbformat": 4,
 "nbformat_minor": 5
}
