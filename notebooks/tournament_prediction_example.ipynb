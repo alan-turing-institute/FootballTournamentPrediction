{
 "cells": [
  {
   "cell_type": "code",
   "execution_count": 1,
   "id": "51bdf906",
   "metadata": {},
   "outputs": [],
   "source": [
    "import numpy as np\n",
    "import pandas as pd\n",
    "import bpl"
   ]
  },
  {
   "cell_type": "code",
   "execution_count": 2,
   "id": "3c579bcb",
   "metadata": {},
   "outputs": [],
   "source": [
    "import sys\n",
    "sys.path.append('../src/')\n",
    "from bpl_interface import *\n",
    "from tournament import *"
   ]
  },
  {
   "cell_type": "code",
   "execution_count": 3,
   "id": "8679d7b9",
   "metadata": {},
   "outputs": [],
   "source": [
    "results = pd.read_csv('../data/results.csv', parse_dates=['date'])\n",
    "results_since_2018_wc = pd.read_csv('../data/match_results_since_2018.csv', parse_dates=['date'])\n",
    "wc_teams = pd.read_csv('../data/teams.csv')\n",
    "fifa_rankings = pd.read_csv('../data/fifa_rankings.csv')\n",
    "fixtures = pd.read_csv('../data/fixtures.csv')"
   ]
  },
  {
   "cell_type": "markdown",
   "id": "540cc995",
   "metadata": {},
   "source": [
    "Initialise the world cup predictor by passing in only results since the last world cup and fit the model only considering games between the teams in the world cup. We do this because:\n",
    "* we don't fit parameters to teams that aren't in the world cup\n",
    "* we can pass in fifa rankings"
   ]
  },
  {
   "cell_type": "code",
   "execution_count": 4,
   "id": "659f3b99",
   "metadata": {},
   "outputs": [],
   "source": [
    "wc_pred = WCPred(results = results_since_2018_wc,\n",
    "                 teams = list(wc_teams.Team),\n",
    "                 ratings = fifa_rankings)"
   ]
  },
  {
   "cell_type": "markdown",
   "id": "c59c4acd",
   "metadata": {},
   "source": [
    "Note that we can fit the model by doing `wc_pred.set_training_data()` and `wc_pred.fit_model()`. These will put training data in `wc_pred.training_data` and the model in `wc_pred.model`.\n",
    "\n",
    "Now, initialise the tournament:"
   ]
  },
  {
   "cell_type": "code",
   "execution_count": 5,
   "id": "d2936349",
   "metadata": {},
   "outputs": [],
   "source": [
    "tourn = Tournament()"
   ]
  },
  {
   "cell_type": "markdown",
   "id": "ec1c3a2c",
   "metadata": {},
   "source": [
    "Running these last two cells will keep on giving you different answers (the prediction of the games using the model will predict different scorelines and different outcomes from each of the group and knockout games).\n",
    "\n",
    "It will make predictions based on the model fitted in `wc_pred`."
   ]
  },
  {
   "cell_type": "code",
   "execution_count": 18,
   "id": "6053e36b",
   "metadata": {
    "scrolled": false
   },
   "outputs": [
    {
     "name": "stdout",
     "output_type": "stream",
     "text": [
      "Argentina vs Saudi Arabia: 2-0\n",
      "Mexico vs Poland: 1-0\n",
      "Argentina vs Mexico: 2-0\n",
      "Poland vs Saudi Arabia: 1-0\n",
      "Saudi Arabia vs Mexico: 1-0\n",
      "Poland vs Argentina: 1-1\n",
      "Denmark vs Tunisia: 2-0\n",
      "France vs Australia: 2-0\n",
      "France vs Denmark: 1-0\n",
      "Tunisia vs Australia: 1-0\n",
      "Tunisia vs France: 1-1\n",
      "Australia vs Denmark: 1-1\n",
      "Portugal vs Ghana: 2-0\n",
      "Uruguay vs South Korea: 1-0\n",
      "Portugal vs Uruguay: 2-0\n",
      "South Korea vs Ghana: 1-0\n",
      "South Korea vs Portugal: 1-1\n",
      "Ghana vs Uruguay: 1-1\n",
      "England vs Iran: 2-0\n",
      "USA vs Wales: 1-0\n",
      "England vs USA: 2-0\n",
      "Wales vs Iran: 1-0\n",
      "Iran vs USA: 1-0\n",
      "Wales vs England: 1-1\n",
      "Morocco vs Croatia: 1-0\n",
      "Belgium vs Canada: 2-0\n",
      "Croatia vs Canada: 2-0\n",
      "Belgium vs Morocco: 1-0\n",
      "Canada vs Morocco: 1-1\n",
      "Croatia vs Belgium: 1-1\n",
      "Qatar vs Ecuador: 1-1\n",
      "Senegal vs Netherlands: 1-1\n",
      "Netherlands vs Ecuador: 2-0\n",
      "Qatar vs Senegal: 1-1\n",
      "Netherlands vs Qatar: 2-0\n",
      "Ecuador vs Senegal: 1-1\n",
      "Brazil vs Serbia: 2-0\n",
      "Switzerland vs Cameroon: 1-0\n",
      "Brazil vs Switzerland: 2-0\n",
      "Cameroon vs Serbia: 1-0\n",
      "Cameroon vs Brazil: 0-1\n",
      "Serbia vs Switzerland: 1-1\n",
      "Germany vs Japan: 1-1\n",
      "Spain vs Costa Rica: 2-0\n",
      "Spain vs Germany: 2-1\n",
      "Japan vs Costa Rica: 1-0\n",
      "Costa Rica vs Germany: 1-1\n",
      "Japan vs Spain: 1-1\n"
     ]
    }
   ],
   "source": [
    "tourn.play_group_stage(wc_pred, seed = 1966, verbose = True)"
   ]
  },
  {
   "cell_type": "code",
   "execution_count": 19,
   "id": "b2b60723",
   "metadata": {
    "scrolled": false
   },
   "outputs": [
    {
     "name": "stdout",
     "output_type": "stream",
     "text": [
      " Group C has played 42 matches\n",
      "Sorting ['Argentina', 'Saudi Arabia', 'Mexico', 'Poland'] using points to fill positions ['1st', '2nd', '3rd', '4th']\n",
      "TEAM LIST [{'team': 'Argentina', 'points': 47, 'goals_for': 23, 'goals_against': 6, 'goal_difference': 17}, {'team': 'Poland', 'points': 28, 'goals_for': 11, 'goals_against': 12, 'goal_difference': -1}, {'team': 'Mexico', 'points': 26, 'goals_for': 10, 'goals_against': 14, 'goal_difference': -4}, {'team': 'Saudi Arabia', 'points': 13, 'goals_for': 5, 'goals_against': 17, 'goal_difference': -12}]\n",
      "Putting Argentina in 1st\n",
      "Putting Poland in 2nd\n",
      "Putting Mexico in 3rd\n",
      "Putting Saudi Arabia in 4th\n",
      " Group D has played 42 matches\n",
      "Sorting ['France', 'Australia', 'Denmark', 'Tunisia'] using points to fill positions ['1st', '2nd', '3rd', '4th']\n",
      "TEAM LIST [{'team': 'France', 'points': 42, 'goals_for': 25, 'goals_against': 9, 'goal_difference': 16}, {'team': 'Denmark', 'points': 36, 'goals_for': 17, 'goals_against': 12, 'goal_difference': 5}, {'team': 'Tunisia', 'points': 24, 'goals_for': 11, 'goals_against': 22, 'goal_difference': -11}, {'team': 'Australia', 'points': 18, 'goals_for': 9, 'goals_against': 19, 'goal_difference': -10}]\n",
      "Putting France in 1st\n",
      "Putting Denmark in 2nd\n",
      "Putting Tunisia in 3rd\n",
      "Putting Australia in 4th\n",
      " Group H has played 42 matches\n",
      "Sorting ['Portugal', 'Ghana', 'Uruguay', 'South Korea'] using points to fill positions ['1st', '2nd', '3rd', '4th']\n",
      "TEAM LIST [{'team': 'Portugal', 'points': 47, 'goals_for': 25, 'goals_against': 9, 'goal_difference': 16}, {'team': 'Uruguay', 'points': 28, 'goals_for': 15, 'goals_against': 18, 'goal_difference': -3}, {'team': 'South Korea', 'points': 26, 'goals_for': 13, 'goals_against': 15, 'goal_difference': -2}, {'team': 'Ghana', 'points': 18, 'goals_for': 9, 'goals_against': 20, 'goal_difference': -11}]\n",
      "Putting Portugal in 1st\n",
      "Putting Uruguay in 2nd\n",
      "Putting South Korea in 3rd\n",
      "Putting Ghana in 4th\n",
      " Group B has played 42 matches\n",
      "Sorting ['England', 'Iran', 'USA', 'Wales'] using points to fill positions ['1st', '2nd', '3rd', '4th']\n",
      "TEAM LIST [{'team': 'England', 'points': 38, 'goals_for': 17, 'goals_against': 4, 'goal_difference': 13}, {'team': 'Iran', 'points': 25, 'goals_for': 9, 'goals_against': 13, 'goal_difference': -4}, {'team': 'USA', 'points': 25, 'goals_for': 9, 'goals_against': 13, 'goal_difference': -4}, {'team': 'Wales', 'points': 24, 'goals_for': 10, 'goals_against': 15, 'goal_difference': -5}]\n",
      "Putting England in 1st\n",
      "Putting Wales in 4th\n",
      "Sorting ['Iran', 'USA'] using goal_difference to fill positions ['2nd', '3rd']\n",
      "Sorting ['Iran', 'USA'] using goals_for to fill positions ['2nd', '3rd']\n",
      "Sorting ['Iran', 'USA'] using head-to-head to fill positions ['2nd', '3rd']\n",
      "Putting USA in 2nd\n",
      "Putting Iran in 3rd\n",
      " Group F has played 42 matches\n",
      "Sorting ['Belgium', 'Canada', 'Morocco', 'Croatia'] using points to fill positions ['1st', '2nd', '3rd', '4th']\n",
      "TEAM LIST [{'team': 'Belgium', 'points': 42, 'goals_for': 23, 'goals_against': 9, 'goal_difference': 14}, {'team': 'Morocco', 'points': 35, 'goals_for': 15, 'goals_against': 12, 'goal_difference': 3}, {'team': 'Croatia', 'points': 31, 'goals_for': 18, 'goals_against': 19, 'goal_difference': -1}, {'team': 'Canada', 'points': 11, 'goals_for': 9, 'goals_against': 25, 'goal_difference': -16}]\n",
      "Putting Belgium in 1st\n",
      "Putting Morocco in 2nd\n",
      "Putting Croatia in 3rd\n",
      "Putting Canada in 4th\n",
      " Group A has played 42 matches\n",
      "Sorting ['Qatar', 'Ecuador', 'Senegal', 'Netherlands'] using points to fill positions ['1st', '2nd', '3rd', '4th']\n",
      "TEAM LIST [{'team': 'Netherlands', 'points': 54, 'goals_for': 26, 'goals_against': 5, 'goal_difference': 21}, {'team': 'Senegal', 'points': 36, 'goals_for': 17, 'goals_against': 13, 'goal_difference': 4}, {'team': 'Ecuador', 'points': 21, 'goals_for': 11, 'goals_against': 19, 'goal_difference': -8}, {'team': 'Qatar', 'points': 9, 'goals_for': 7, 'goals_against': 24, 'goal_difference': -17}]\n",
      "Putting Netherlands in 1st\n",
      "Putting Senegal in 2nd\n",
      "Putting Ecuador in 3rd\n",
      "Putting Qatar in 4th\n",
      " Group G has played 42 matches\n",
      "Sorting ['Brazil', 'Serbia', 'Switzerland', 'Cameroon'] using points to fill positions ['1st', '2nd', '3rd', '4th']\n",
      "TEAM LIST [{'team': 'Brazil', 'points': 45, 'goals_for': 21, 'goals_against': 6, 'goal_difference': 15}, {'team': 'Switzerland', 'points': 40, 'goals_for': 15, 'goals_against': 9, 'goal_difference': 6}, {'team': 'Serbia', 'points': 18, 'goals_for': 9, 'goals_against': 19, 'goal_difference': -10}, {'team': 'Cameroon', 'points': 13, 'goals_for': 4, 'goals_against': 15, 'goal_difference': -11}]\n",
      "Putting Brazil in 1st\n",
      "Putting Switzerland in 2nd\n",
      "Putting Serbia in 3rd\n",
      "Putting Cameroon in 4th\n",
      " Group E has played 42 matches\n",
      "Sorting ['Spain', 'Costa Rica', 'Germany', 'Japan'] using points to fill positions ['1st', '2nd', '3rd', '4th']\n",
      "TEAM LIST [{'team': 'Spain', 'points': 45, 'goals_for': 25, 'goals_against': 11, 'goal_difference': 14}, {'team': 'Japan', 'points': 31, 'goals_for': 14, 'goals_against': 12, 'goal_difference': 2}, {'team': 'Germany', 'points': 27, 'goals_for': 18, 'goals_against': 19, 'goal_difference': -1}, {'team': 'Costa Rica', 'points': 10, 'goals_for': 5, 'goals_against': 20, 'goal_difference': -15}]\n",
      "Putting Spain in 1st\n",
      "Putting Japan in 2nd\n",
      "Putting Germany in 3rd\n",
      "Putting Costa Rica in 4th\n",
      "R16: 1A vs 2B: Winner: Netherlands\n",
      "R16: 1C vs 2D: Winner: Argentina\n",
      "R16: 1B vs 2A: Winner: England\n",
      "R16: 1D vs 2C: Winner: France\n",
      "R16: 1G vs 2H: Winner: Brazil\n",
      "R16: 1E vs 2F: Winner: Spain\n",
      "R16: 1H vs 2G: Winner: Portugal\n",
      "R16: 1F vs 2E: Winner: Belgium\n",
      "QF: 1A2B vs 1C2D: Winner: Netherlands\n",
      "QF: 1G2H vs 1E2F: Winner: Brazil\n",
      "QF: 1B2A vs 1D2C: Winner: France\n",
      "QF: 1H2G vs 1F2E: Winner: Portugal\n",
      "SF: 1A2B1C2D vs 1G2H1E2F: Winner: Netherlands\n",
      "SF: 1B2A1D2C vs 1H2G1F2E: Winner: France\n",
      "F: 1A2B1C2D1G2H1E2F vs 1B2A1D2C1H2G1F2E: Winner: France\n",
      "====== WINNER: France =======\n"
     ]
    }
   ],
   "source": [
    "tourn.play_knockout_stages(wc_pred, seed = 1966, verbose = True)"
   ]
  },
  {
   "cell_type": "code",
   "execution_count": null,
   "id": "d361b7a0",
   "metadata": {},
   "outputs": [],
   "source": []
  }
 ],
 "metadata": {
  "kernelspec": {
   "display_name": "wcenv",
   "language": "python",
   "name": "wcenv"
  },
  "language_info": {
   "codemirror_mode": {
    "name": "ipython",
    "version": 3
   },
   "file_extension": ".py",
   "mimetype": "text/x-python",
   "name": "python",
   "nbconvert_exporter": "python",
   "pygments_lexer": "ipython3",
   "version": "3.10.6"
  }
 },
 "nbformat": 4,
 "nbformat_minor": 5
}
