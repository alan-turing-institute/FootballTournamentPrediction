{
 "cells": [
  {
   "cell_type": "code",
   "execution_count": 1,
   "id": "4365379b",
   "metadata": {},
   "outputs": [],
   "source": [
    "import numpy as np\n",
    "import pandas as pd\n",
    "\n",
    "import matplotlib.pyplot as plt\n",
    "import seaborn as sns\n",
    "\n",
    "import bpl\n"
   ]
  },
  {
   "cell_type": "code",
   "execution_count": 10,
   "id": "77cc37a6",
   "metadata": {},
   "outputs": [],
   "source": [
    "from wcpredictor.src.bpl_interface import WCPred\n",
    "from wcpredictor.src.utils import get_and_train_model"
   ]
  },
  {
   "cell_type": "markdown",
   "id": "64d769e4",
   "metadata": {},
   "source": [
    "- fit up to end of 2020\n",
    "- test on 2021 and 2022\n",
    "- no covariates"
   ]
  },
  {
   "cell_type": "code",
   "execution_count": 9,
   "id": "34392599",
   "metadata": {},
   "outputs": [
    {
     "name": "stdout",
     "output_type": "stream",
     "text": [
      "Using FIFA organisation rankings\n"
     ]
    },
    {
     "data": {
      "text/html": [
       "<div>\n",
       "<style scoped>\n",
       "    .dataframe tbody tr th:only-of-type {\n",
       "        vertical-align: middle;\n",
       "    }\n",
       "\n",
       "    .dataframe tbody tr th {\n",
       "        vertical-align: top;\n",
       "    }\n",
       "\n",
       "    .dataframe thead th {\n",
       "        text-align: right;\n",
       "    }\n",
       "</style>\n",
       "<table border=\"1\" class=\"dataframe\">\n",
       "  <thead>\n",
       "    <tr style=\"text-align: right;\">\n",
       "      <th></th>\n",
       "      <th>date</th>\n",
       "      <th>home_team</th>\n",
       "      <th>away_team</th>\n",
       "      <th>home_score</th>\n",
       "      <th>away_score</th>\n",
       "      <th>tournament</th>\n",
       "      <th>city</th>\n",
       "      <th>country</th>\n",
       "      <th>neutral</th>\n",
       "    </tr>\n",
       "  </thead>\n",
       "  <tbody>\n",
       "    <tr>\n",
       "      <th>0</th>\n",
       "      <td>2018-06-02</td>\n",
       "      <td>El Salvador</td>\n",
       "      <td>Honduras</td>\n",
       "      <td>1</td>\n",
       "      <td>0</td>\n",
       "      <td>Friendly</td>\n",
       "      <td>Houston</td>\n",
       "      <td>USA</td>\n",
       "      <td>True</td>\n",
       "    </tr>\n",
       "    <tr>\n",
       "      <th>1</th>\n",
       "      <td>2018-06-02</td>\n",
       "      <td>Thailand</td>\n",
       "      <td>China PR</td>\n",
       "      <td>0</td>\n",
       "      <td>2</td>\n",
       "      <td>Friendly</td>\n",
       "      <td>Bangkok</td>\n",
       "      <td>Thailand</td>\n",
       "      <td>False</td>\n",
       "    </tr>\n",
       "    <tr>\n",
       "      <th>2</th>\n",
       "      <td>2018-06-02</td>\n",
       "      <td>England</td>\n",
       "      <td>Nigeria</td>\n",
       "      <td>2</td>\n",
       "      <td>1</td>\n",
       "      <td>Friendly</td>\n",
       "      <td>London</td>\n",
       "      <td>England</td>\n",
       "      <td>False</td>\n",
       "    </tr>\n",
       "    <tr>\n",
       "      <th>3</th>\n",
       "      <td>2018-06-02</td>\n",
       "      <td>Montenegro</td>\n",
       "      <td>Slovenia</td>\n",
       "      <td>0</td>\n",
       "      <td>2</td>\n",
       "      <td>Friendly</td>\n",
       "      <td>Podgorica</td>\n",
       "      <td>Montenegro</td>\n",
       "      <td>False</td>\n",
       "    </tr>\n",
       "    <tr>\n",
       "      <th>4</th>\n",
       "      <td>2018-06-02</td>\n",
       "      <td>Mexico</td>\n",
       "      <td>Scotland</td>\n",
       "      <td>1</td>\n",
       "      <td>0</td>\n",
       "      <td>Friendly</td>\n",
       "      <td>Mexico City</td>\n",
       "      <td>Mexico</td>\n",
       "      <td>False</td>\n",
       "    </tr>\n",
       "    <tr>\n",
       "      <th>...</th>\n",
       "      <td>...</td>\n",
       "      <td>...</td>\n",
       "      <td>...</td>\n",
       "      <td>...</td>\n",
       "      <td>...</td>\n",
       "      <td>...</td>\n",
       "      <td>...</td>\n",
       "      <td>...</td>\n",
       "      <td>...</td>\n",
       "    </tr>\n",
       "    <tr>\n",
       "      <th>3723</th>\n",
       "      <td>2022-10-22</td>\n",
       "      <td>Saudi Arabia</td>\n",
       "      <td>North Macedonia</td>\n",
       "      <td>1</td>\n",
       "      <td>0</td>\n",
       "      <td>Friendly</td>\n",
       "      <td>Abu Dhabi</td>\n",
       "      <td>United Arab Emirates</td>\n",
       "      <td>True</td>\n",
       "    </tr>\n",
       "    <tr>\n",
       "      <th>3724</th>\n",
       "      <td>2022-10-23</td>\n",
       "      <td>Qatar</td>\n",
       "      <td>Guatemala</td>\n",
       "      <td>2</td>\n",
       "      <td>0</td>\n",
       "      <td>Friendly</td>\n",
       "      <td>Málaga</td>\n",
       "      <td>Spain</td>\n",
       "      <td>True</td>\n",
       "    </tr>\n",
       "    <tr>\n",
       "      <th>3725</th>\n",
       "      <td>2022-10-26</td>\n",
       "      <td>Saudi Arabia</td>\n",
       "      <td>Albania</td>\n",
       "      <td>1</td>\n",
       "      <td>1</td>\n",
       "      <td>Friendly</td>\n",
       "      <td>Abu Dhabi</td>\n",
       "      <td>United Arab Emirates</td>\n",
       "      <td>True</td>\n",
       "    </tr>\n",
       "    <tr>\n",
       "      <th>3726</th>\n",
       "      <td>2022-10-27</td>\n",
       "      <td>Qatar</td>\n",
       "      <td>Honduras</td>\n",
       "      <td>1</td>\n",
       "      <td>0</td>\n",
       "      <td>Friendly</td>\n",
       "      <td>Marbella</td>\n",
       "      <td>Spain</td>\n",
       "      <td>True</td>\n",
       "    </tr>\n",
       "    <tr>\n",
       "      <th>3727</th>\n",
       "      <td>2022-10-30</td>\n",
       "      <td>Saudi Arabia</td>\n",
       "      <td>Honduras</td>\n",
       "      <td>0</td>\n",
       "      <td>0</td>\n",
       "      <td>Friendly</td>\n",
       "      <td>Abu Dhabi</td>\n",
       "      <td>United Arab Emirates</td>\n",
       "      <td>True</td>\n",
       "    </tr>\n",
       "  </tbody>\n",
       "</table>\n",
       "<p>3728 rows × 9 columns</p>\n",
       "</div>"
      ],
      "text/plain": [
       "           date     home_team        away_team  home_score  away_score  \\\n",
       "0    2018-06-02   El Salvador         Honduras           1           0   \n",
       "1    2018-06-02      Thailand         China PR           0           2   \n",
       "2    2018-06-02       England          Nigeria           2           1   \n",
       "3    2018-06-02    Montenegro         Slovenia           0           2   \n",
       "4    2018-06-02        Mexico         Scotland           1           0   \n",
       "...         ...           ...              ...         ...         ...   \n",
       "3723 2022-10-22  Saudi Arabia  North Macedonia           1           0   \n",
       "3724 2022-10-23         Qatar        Guatemala           2           0   \n",
       "3725 2022-10-26  Saudi Arabia          Albania           1           1   \n",
       "3726 2022-10-27         Qatar         Honduras           1           0   \n",
       "3727 2022-10-30  Saudi Arabia         Honduras           0           0   \n",
       "\n",
       "     tournament         city               country  neutral  \n",
       "0      Friendly      Houston                   USA     True  \n",
       "1      Friendly      Bangkok              Thailand    False  \n",
       "2      Friendly       London               England    False  \n",
       "3      Friendly    Podgorica            Montenegro    False  \n",
       "4      Friendly  Mexico City                Mexico    False  \n",
       "...         ...          ...                   ...      ...  \n",
       "3723   Friendly    Abu Dhabi  United Arab Emirates     True  \n",
       "3724   Friendly       Málaga                 Spain     True  \n",
       "3725   Friendly    Abu Dhabi  United Arab Emirates     True  \n",
       "3726   Friendly     Marbella                 Spain     True  \n",
       "3727   Friendly    Abu Dhabi  United Arab Emirates     True  \n",
       "\n",
       "[3728 rows x 9 columns]"
      ]
     },
     "execution_count": 9,
     "metadata": {},
     "output_type": "execute_result"
    }
   ],
   "source": [
    "r = get_results_data()\n",
    "r"
   ]
  },
  {
   "cell_type": "code",
   "execution_count": 3,
   "id": "e4d8b8ba",
   "metadata": {},
   "outputs": [],
   "source": [
    "results = pd.read_csv('../wcpredictor/data/results.csv', parse_dates=['date'])\n",
    "\n",
    "\n",
    "def filter_results(year_from, year_until, teams=None):\n",
    "    r = results[(results.date.dt.year >= year_from) & (results.date.dt.year <= year_until)]\n",
    "    if teams:\n",
    "        r = r[(r[\"home_team\"].isin(teams)) & (r[\"away_team\"].isin(teams))]\n",
    "    return r\n",
    "\n",
    "def fit_model_between(model, year_from, year_until):\n",
    "    r = filter_results(year_from, year_until)\n",
    "    wc_pred = WCPred(results = r)\n",
    "    wc_pred.fit_model(model=model)\n",
    "    return wc_pred.model\n",
    "\n",
    "\n",
    "def test_model_between(model, year_from, year_until):\n",
    "    r = filter_results(year_from, year_until, model.teams)\n",
    "    if isinstance(model, bpl.NeutralDixonColesMatchPredictor):\n",
    "        proba = model.predict_score_proba(\n",
    "            np.array(r[\"home_team\"]),\n",
    "            np.array(r[\"away_team\"]),\n",
    "            np.array(r[\"home_score\"]),\n",
    "            np.array(r[\"away_score\"]),\n",
    "            np.array(r[\"neutral\"]),\n",
    "        )\n",
    "    else:\n",
    "        proba = model.predict_score_proba(\n",
    "            np.array(r[\"home_team\"]),\n",
    "            np.array(r[\"away_team\"]),\n",
    "            np.array(r[\"home_score\"]),\n",
    "            np.array(r[\"away_score\"]),\n",
    "        )\n",
    "    return np.log(proba).sum() / len(proba)  # log likelihood\n"
   ]
  },
  {
   "cell_type": "code",
   "execution_count": 4,
   "id": "2dfdde38",
   "metadata": {},
   "outputs": [
    {
     "name": "stdout",
     "output_type": "stream",
     "text": [
      "<class 'bpl.dixon_coles.DixonColesMatchPredictor'>\n",
      "=======\n",
      "1872\n",
      "=======\n",
      "[MODEL FITTING] Setting training data for the model\n",
      "[MODEL FITTING] Fitting the model\n"
     ]
    },
    {
     "name": "stderr",
     "output_type": "stream",
     "text": [
      "sample: 100%|████████████████████████████████████████████████████████████████████████████████████████████████████████████| 1500/1500 [03:14<00:00,  7.70it/s, 127 steps of size 3.80e-02. acc. prob=0.93]\n"
     ]
    },
    {
     "name": "stdout",
     "output_type": "stream",
     "text": [
      "=======\n",
      "1900\n",
      "=======\n",
      "[MODEL FITTING] Setting training data for the model\n",
      "[MODEL FITTING] Fitting the model\n"
     ]
    },
    {
     "name": "stderr",
     "output_type": "stream",
     "text": [
      "sample: 100%|████████████████████████████████████████████████████████████████████████████████████████████████████████████| 1500/1500 [02:59<00:00,  8.37it/s, 127 steps of size 3.91e-02. acc. prob=0.93]\n"
     ]
    },
    {
     "name": "stdout",
     "output_type": "stream",
     "text": [
      "=======\n",
      "1925\n",
      "=======\n",
      "[MODEL FITTING] Setting training data for the model\n",
      "[MODEL FITTING] Fitting the model\n"
     ]
    },
    {
     "name": "stderr",
     "output_type": "stream",
     "text": [
      "sample: 100%|█████████████████████████████████████████████████████████████████████████████████████████████████████████████| 1500/1500 [02:04<00:00, 12.09it/s, 63 steps of size 6.18e-02. acc. prob=0.92]\n"
     ]
    },
    {
     "name": "stdout",
     "output_type": "stream",
     "text": [
      "=======\n",
      "1950\n",
      "=======\n",
      "[MODEL FITTING] Setting training data for the model\n",
      "[MODEL FITTING] Fitting the model\n"
     ]
    },
    {
     "name": "stderr",
     "output_type": "stream",
     "text": [
      "sample: 100%|█████████████████████████████████████████████████████████████████████████████████████████████████████████████| 1500/1500 [01:57<00:00, 12.76it/s, 63 steps of size 6.10e-02. acc. prob=0.94]\n"
     ]
    },
    {
     "name": "stdout",
     "output_type": "stream",
     "text": [
      "=======\n",
      "1975\n",
      "=======\n",
      "[MODEL FITTING] Setting training data for the model\n",
      "[MODEL FITTING] Fitting the model\n"
     ]
    },
    {
     "name": "stderr",
     "output_type": "stream",
     "text": [
      "sample: 100%|█████████████████████████████████████████████████████████████████████████████████████████████████████████████| 1500/1500 [01:36<00:00, 15.58it/s, 63 steps of size 5.67e-02. acc. prob=0.93]\n"
     ]
    },
    {
     "name": "stdout",
     "output_type": "stream",
     "text": [
      "=======\n",
      "2000\n",
      "=======\n",
      "[MODEL FITTING] Setting training data for the model\n",
      "[MODEL FITTING] Fitting the model\n"
     ]
    },
    {
     "name": "stderr",
     "output_type": "stream",
     "text": [
      "sample: 100%|█████████████████████████████████████████████████████████████████████████████████████████████████████████████| 1500/1500 [00:41<00:00, 35.98it/s, 31 steps of size 1.02e-01. acc. prob=0.91]\n"
     ]
    },
    {
     "name": "stdout",
     "output_type": "stream",
     "text": [
      "=======\n",
      "2004\n",
      "=======\n",
      "[MODEL FITTING] Setting training data for the model\n",
      "[MODEL FITTING] Fitting the model\n"
     ]
    },
    {
     "name": "stderr",
     "output_type": "stream",
     "text": [
      "sample: 100%|█████████████████████████████████████████████████████████████████████████████████████████████████████████████| 1500/1500 [00:36<00:00, 41.38it/s, 31 steps of size 9.68e-02. acc. prob=0.94]\n"
     ]
    },
    {
     "name": "stdout",
     "output_type": "stream",
     "text": [
      "=======\n",
      "2008\n",
      "=======\n",
      "[MODEL FITTING] Setting training data for the model\n",
      "[MODEL FITTING] Fitting the model\n"
     ]
    },
    {
     "name": "stderr",
     "output_type": "stream",
     "text": [
      "sample: 100%|█████████████████████████████████████████████████████████████████████████████████████████████████████████████| 1500/1500 [00:26<00:00, 55.96it/s, 31 steps of size 9.63e-02. acc. prob=0.91]\n"
     ]
    },
    {
     "name": "stdout",
     "output_type": "stream",
     "text": [
      "=======\n",
      "2010\n",
      "=======\n",
      "[MODEL FITTING] Setting training data for the model\n",
      "[MODEL FITTING] Fitting the model\n"
     ]
    },
    {
     "name": "stderr",
     "output_type": "stream",
     "text": [
      "sample: 100%|█████████████████████████████████████████████████████████████████████████████████████████████████████████████| 1500/1500 [00:23<00:00, 64.53it/s, 31 steps of size 9.88e-02. acc. prob=0.92]\n"
     ]
    },
    {
     "name": "stdout",
     "output_type": "stream",
     "text": [
      "=======\n",
      "2011\n",
      "=======\n",
      "[MODEL FITTING] Setting training data for the model\n",
      "[MODEL FITTING] Fitting the model\n"
     ]
    },
    {
     "name": "stderr",
     "output_type": "stream",
     "text": [
      "sample: 100%|█████████████████████████████████████████████████████████████████████████████████████████████████████████████| 1500/1500 [00:22<00:00, 66.23it/s, 31 steps of size 1.29e-01. acc. prob=0.91]\n"
     ]
    },
    {
     "name": "stdout",
     "output_type": "stream",
     "text": [
      "=======\n",
      "2012\n",
      "=======\n",
      "[MODEL FITTING] Setting training data for the model\n",
      "[MODEL FITTING] Fitting the model\n"
     ]
    },
    {
     "name": "stderr",
     "output_type": "stream",
     "text": [
      "sample: 100%|█████████████████████████████████████████████████████████████████████████████████████████████████████████████| 1500/1500 [00:18<00:00, 79.49it/s, 31 steps of size 1.03e-01. acc. prob=0.93]\n"
     ]
    },
    {
     "name": "stdout",
     "output_type": "stream",
     "text": [
      "=======\n",
      "2013\n",
      "=======\n",
      "[MODEL FITTING] Setting training data for the model\n",
      "[MODEL FITTING] Fitting the model\n"
     ]
    },
    {
     "name": "stderr",
     "output_type": "stream",
     "text": [
      "sample: 100%|█████████████████████████████████████████████████████████████████████████████████████████████████████████████| 1500/1500 [00:17<00:00, 84.55it/s, 31 steps of size 1.20e-01. acc. prob=0.91]\n"
     ]
    },
    {
     "name": "stdout",
     "output_type": "stream",
     "text": [
      "=======\n",
      "2014\n",
      "=======\n",
      "[MODEL FITTING] Setting training data for the model\n",
      "[MODEL FITTING] Fitting the model\n"
     ]
    },
    {
     "name": "stderr",
     "output_type": "stream",
     "text": [
      "sample: 100%|█████████████████████████████████████████████████████████████████████████████████████████████████████████████| 1500/1500 [00:15<00:00, 95.55it/s, 31 steps of size 1.23e-01. acc. prob=0.92]\n"
     ]
    },
    {
     "name": "stdout",
     "output_type": "stream",
     "text": [
      "=======\n",
      "2015\n",
      "=======\n",
      "[MODEL FITTING] Setting training data for the model\n",
      "[MODEL FITTING] Fitting the model\n"
     ]
    },
    {
     "name": "stderr",
     "output_type": "stream",
     "text": [
      "sample: 100%|████████████████████████████████████████████████████████████████████████████████████████████████████████████| 1500/1500 [00:13<00:00, 110.30it/s, 31 steps of size 1.41e-01. acc. prob=0.92]\n"
     ]
    },
    {
     "name": "stdout",
     "output_type": "stream",
     "text": [
      "=======\n",
      "2016\n",
      "=======\n",
      "[MODEL FITTING] Setting training data for the model\n",
      "[MODEL FITTING] Fitting the model\n"
     ]
    },
    {
     "name": "stderr",
     "output_type": "stream",
     "text": [
      "sample: 100%|████████████████████████████████████████████████████████████████████████████████████████████████████████████| 1500/1500 [00:11<00:00, 132.28it/s, 31 steps of size 1.42e-01. acc. prob=0.91]\n"
     ]
    },
    {
     "name": "stdout",
     "output_type": "stream",
     "text": [
      "=======\n",
      "2017\n",
      "=======\n",
      "[MODEL FITTING] Setting training data for the model\n",
      "[MODEL FITTING] Fitting the model\n"
     ]
    },
    {
     "name": "stderr",
     "output_type": "stream",
     "text": [
      "sample: 100%|████████████████████████████████████████████████████████████████████████████████████████████████████████████| 1500/1500 [00:09<00:00, 151.89it/s, 31 steps of size 2.01e-01. acc. prob=0.88]\n"
     ]
    },
    {
     "name": "stdout",
     "output_type": "stream",
     "text": [
      "=======\n",
      "2018\n",
      "=======\n",
      "[MODEL FITTING] Setting training data for the model\n",
      "[MODEL FITTING] Fitting the model\n"
     ]
    },
    {
     "name": "stderr",
     "output_type": "stream",
     "text": [
      "sample: 100%|████████████████████████████████████████████████████████████████████████████████████████████████████████████| 1500/1500 [00:08<00:00, 181.42it/s, 31 steps of size 1.77e-01. acc. prob=0.90]\n"
     ]
    },
    {
     "name": "stdout",
     "output_type": "stream",
     "text": [
      "=======\n",
      "2019\n",
      "=======\n",
      "[MODEL FITTING] Setting training data for the model\n",
      "[MODEL FITTING] Fitting the model\n"
     ]
    },
    {
     "name": "stderr",
     "output_type": "stream",
     "text": [
      "sample: 100%|████████████████████████████████████████████████████████████████████████████████████████████████████████████| 1500/1500 [00:06<00:00, 234.64it/s, 15 steps of size 2.30e-01. acc. prob=0.87]\n"
     ]
    },
    {
     "name": "stdout",
     "output_type": "stream",
     "text": [
      "=======\n",
      "2020\n",
      "=======\n",
      "[MODEL FITTING] Setting training data for the model\n",
      "[MODEL FITTING] Fitting the model\n"
     ]
    },
    {
     "name": "stderr",
     "output_type": "stream",
     "text": [
      "sample: 100%|████████████████████████████████████████████████████████████████████████████████████████████████████████████| 1500/1500 [00:05<00:00, 286.60it/s, 15 steps of size 2.63e-01. acc. prob=0.89]\n"
     ]
    },
    {
     "name": "stdout",
     "output_type": "stream",
     "text": [
      "<class 'bpl.extended_dixon_coles.ExtendedDixonColesMatchPredictor'>\n",
      "=======\n",
      "1872\n",
      "=======\n",
      "[MODEL FITTING] Setting training data for the model\n",
      "[MODEL FITTING] Fitting the model\n"
     ]
    },
    {
     "name": "stderr",
     "output_type": "stream",
     "text": [
      "sample: 100%|█████████████████████████████████████████████████████████████████████████████████████████████████████████████| 1500/1500 [02:13<00:00, 11.20it/s, 63 steps of size 7.11e-02. acc. prob=0.91]\n"
     ]
    },
    {
     "name": "stdout",
     "output_type": "stream",
     "text": [
      "=======\n",
      "1900\n",
      "=======\n",
      "[MODEL FITTING] Setting training data for the model\n",
      "[MODEL FITTING] Fitting the model\n"
     ]
    },
    {
     "name": "stderr",
     "output_type": "stream",
     "text": [
      "sample: 100%|█████████████████████████████████████████████████████████████████████████████████████████████████████████████| 1500/1500 [02:06<00:00, 11.87it/s, 63 steps of size 8.01e-02. acc. prob=0.89]\n"
     ]
    },
    {
     "name": "stdout",
     "output_type": "stream",
     "text": [
      "=======\n",
      "1925\n",
      "=======\n",
      "[MODEL FITTING] Setting training data for the model\n",
      "[MODEL FITTING] Fitting the model\n"
     ]
    },
    {
     "name": "stderr",
     "output_type": "stream",
     "text": [
      "sample: 100%|█████████████████████████████████████████████████████████████████████████████████████████████████████████████| 1500/1500 [01:58<00:00, 12.66it/s, 63 steps of size 9.98e-02. acc. prob=0.87]\n"
     ]
    },
    {
     "name": "stdout",
     "output_type": "stream",
     "text": [
      "=======\n",
      "1950\n",
      "=======\n",
      "[MODEL FITTING] Setting training data for the model\n",
      "[MODEL FITTING] Fitting the model\n"
     ]
    },
    {
     "name": "stderr",
     "output_type": "stream",
     "text": [
      "sample: 100%|█████████████████████████████████████████████████████████████████████████████████████████████████████████████| 1500/1500 [02:08<00:00, 11.64it/s, 63 steps of size 9.28e-02. acc. prob=0.90]\n"
     ]
    },
    {
     "name": "stdout",
     "output_type": "stream",
     "text": [
      "=======\n",
      "1975\n",
      "=======\n",
      "[MODEL FITTING] Setting training data for the model\n",
      "[MODEL FITTING] Fitting the model\n"
     ]
    },
    {
     "name": "stderr",
     "output_type": "stream",
     "text": [
      "sample: 100%|█████████████████████████████████████████████████████████████████████████████████████████████████████████████| 1500/1500 [01:20<00:00, 18.66it/s, 31 steps of size 1.03e-01. acc. prob=0.90]\n"
     ]
    },
    {
     "name": "stdout",
     "output_type": "stream",
     "text": [
      "=======\n",
      "2000\n",
      "=======\n",
      "[MODEL FITTING] Setting training data for the model\n",
      "[MODEL FITTING] Fitting the model\n"
     ]
    },
    {
     "name": "stderr",
     "output_type": "stream",
     "text": [
      "sample: 100%|█████████████████████████████████████████████████████████████████████████████████████████████████████████████| 1500/1500 [00:46<00:00, 32.46it/s, 31 steps of size 9.86e-02. acc. prob=0.90]\n"
     ]
    },
    {
     "name": "stdout",
     "output_type": "stream",
     "text": [
      "=======\n",
      "2004\n",
      "=======\n",
      "[MODEL FITTING] Setting training data for the model\n",
      "[MODEL FITTING] Fitting the model\n"
     ]
    },
    {
     "name": "stderr",
     "output_type": "stream",
     "text": [
      "sample: 100%|█████████████████████████████████████████████████████████████████████████████████████████████████████████████| 1500/1500 [00:48<00:00, 31.17it/s, 31 steps of size 1.31e-01. acc. prob=0.88]\n"
     ]
    },
    {
     "name": "stdout",
     "output_type": "stream",
     "text": [
      "=======\n",
      "2008\n",
      "=======\n",
      "[MODEL FITTING] Setting training data for the model\n",
      "[MODEL FITTING] Fitting the model\n"
     ]
    },
    {
     "name": "stderr",
     "output_type": "stream",
     "text": [
      "sample: 100%|█████████████████████████████████████████████████████████████████████████████████████████████████████████████| 1500/1500 [00:33<00:00, 44.34it/s, 31 steps of size 1.11e-01. acc. prob=0.89]\n"
     ]
    },
    {
     "name": "stdout",
     "output_type": "stream",
     "text": [
      "=======\n",
      "2010\n",
      "=======\n",
      "[MODEL FITTING] Setting training data for the model\n",
      "[MODEL FITTING] Fitting the model\n"
     ]
    },
    {
     "name": "stderr",
     "output_type": "stream",
     "text": [
      "sample: 100%|█████████████████████████████████████████████████████████████████████████████████████████████████████████████| 1500/1500 [00:28<00:00, 52.38it/s, 31 steps of size 1.20e-01. acc. prob=0.89]\n"
     ]
    },
    {
     "name": "stdout",
     "output_type": "stream",
     "text": [
      "=======\n",
      "2011\n",
      "=======\n",
      "[MODEL FITTING] Setting training data for the model\n",
      "[MODEL FITTING] Fitting the model\n"
     ]
    },
    {
     "name": "stderr",
     "output_type": "stream",
     "text": [
      "sample: 100%|█████████████████████████████████████████████████████████████████████████████████████████████████████████████| 1500/1500 [00:28<00:00, 52.08it/s, 31 steps of size 1.12e-01. acc. prob=0.90]\n"
     ]
    },
    {
     "name": "stdout",
     "output_type": "stream",
     "text": [
      "=======\n",
      "2012\n",
      "=======\n",
      "[MODEL FITTING] Setting training data for the model\n",
      "[MODEL FITTING] Fitting the model\n"
     ]
    },
    {
     "name": "stderr",
     "output_type": "stream",
     "text": [
      "sample: 100%|█████████████████████████████████████████████████████████████████████████████████████████████████████████████| 1500/1500 [00:26<00:00, 55.83it/s, 31 steps of size 1.61e-01. acc. prob=0.84]\n"
     ]
    },
    {
     "name": "stdout",
     "output_type": "stream",
     "text": [
      "=======\n",
      "2013\n",
      "=======\n",
      "[MODEL FITTING] Setting training data for the model\n",
      "[MODEL FITTING] Fitting the model\n"
     ]
    },
    {
     "name": "stderr",
     "output_type": "stream",
     "text": [
      "sample: 100%|█████████████████████████████████████████████████████████████████████████████████████████████████████████████| 1500/1500 [00:23<00:00, 63.18it/s, 31 steps of size 1.37e-01. acc. prob=0.88]\n"
     ]
    },
    {
     "name": "stdout",
     "output_type": "stream",
     "text": [
      "=======\n",
      "2014\n",
      "=======\n",
      "[MODEL FITTING] Setting training data for the model\n",
      "[MODEL FITTING] Fitting the model\n"
     ]
    },
    {
     "name": "stderr",
     "output_type": "stream",
     "text": [
      "sample: 100%|█████████████████████████████████████████████████████████████████████████████████████████████████████████████| 1500/1500 [00:19<00:00, 76.60it/s, 31 steps of size 1.50e-01. acc. prob=0.87]\n"
     ]
    },
    {
     "name": "stdout",
     "output_type": "stream",
     "text": [
      "=======\n",
      "2015\n",
      "=======\n",
      "[MODEL FITTING] Setting training data for the model\n",
      "[MODEL FITTING] Fitting the model\n"
     ]
    },
    {
     "name": "stderr",
     "output_type": "stream",
     "text": [
      "sample: 100%|█████████████████████████████████████████████████████████████████████████████████████████████████████████████| 1500/1500 [00:17<00:00, 86.34it/s, 31 steps of size 1.33e-01. acc. prob=0.85]\n"
     ]
    },
    {
     "name": "stdout",
     "output_type": "stream",
     "text": [
      "=======\n",
      "2016\n",
      "=======\n",
      "[MODEL FITTING] Setting training data for the model\n",
      "[MODEL FITTING] Fitting the model\n"
     ]
    },
    {
     "name": "stderr",
     "output_type": "stream",
     "text": [
      "sample: 100%|█████████████████████████████████████████████████████████████████████████████████████████████████████████████| 1500/1500 [00:15<00:00, 97.40it/s, 31 steps of size 1.21e-01. acc. prob=0.93]\n"
     ]
    },
    {
     "name": "stdout",
     "output_type": "stream",
     "text": [
      "=======\n",
      "2017\n",
      "=======\n",
      "[MODEL FITTING] Setting training data for the model\n",
      "[MODEL FITTING] Fitting the model\n"
     ]
    },
    {
     "name": "stderr",
     "output_type": "stream",
     "text": [
      "sample: 100%|████████████████████████████████████████████████████████████████████████████████████████████████████████████| 1500/1500 [00:12<00:00, 116.31it/s, 31 steps of size 1.47e-01. acc. prob=0.90]\n"
     ]
    },
    {
     "name": "stdout",
     "output_type": "stream",
     "text": [
      "=======\n",
      "2018\n",
      "=======\n",
      "[MODEL FITTING] Setting training data for the model\n",
      "[MODEL FITTING] Fitting the model\n"
     ]
    },
    {
     "name": "stderr",
     "output_type": "stream",
     "text": [
      "sample: 100%|████████████████████████████████████████████████████████████████████████████████████████████████████████████| 1500/1500 [00:10<00:00, 136.57it/s, 31 steps of size 1.41e-01. acc. prob=0.89]\n"
     ]
    },
    {
     "name": "stdout",
     "output_type": "stream",
     "text": [
      "=======\n",
      "2019\n",
      "=======\n",
      "[MODEL FITTING] Setting training data for the model\n",
      "[MODEL FITTING] Fitting the model\n"
     ]
    },
    {
     "name": "stderr",
     "output_type": "stream",
     "text": [
      "sample: 100%|████████████████████████████████████████████████████████████████████████████████████████████████████████████| 1500/1500 [00:09<00:00, 151.63it/s, 31 steps of size 1.48e-01. acc. prob=0.91]\n"
     ]
    },
    {
     "name": "stdout",
     "output_type": "stream",
     "text": [
      "=======\n",
      "2020\n",
      "=======\n",
      "[MODEL FITTING] Setting training data for the model\n",
      "[MODEL FITTING] Fitting the model\n"
     ]
    },
    {
     "name": "stderr",
     "output_type": "stream",
     "text": [
      "sample: 100%|████████████████████████████████████████████████████████████████████████████████████████████████████████████| 1500/1500 [00:06<00:00, 220.91it/s, 31 steps of size 1.13e-01. acc. prob=0.93]\n"
     ]
    },
    {
     "name": "stdout",
     "output_type": "stream",
     "text": [
      "<class 'bpl.neutral_dixon_coles.NeutralDixonColesMatchPredictor'>\n",
      "=======\n",
      "1872\n",
      "=======\n",
      "[MODEL FITTING] Setting training data for the model\n",
      "[MODEL FITTING] Fitting the model\n"
     ]
    },
    {
     "name": "stderr",
     "output_type": "stream",
     "text": [
      "sample: 100%|█████████████████████████████████████████████████████████████████████████████████████████████████████████████| 1500/1500 [03:30<00:00,  7.13it/s, 63 steps of size 8.73e-02. acc. prob=0.88]\n"
     ]
    },
    {
     "name": "stdout",
     "output_type": "stream",
     "text": [
      "=======\n",
      "1900\n",
      "=======\n",
      "[MODEL FITTING] Setting training data for the model\n",
      "[MODEL FITTING] Fitting the model\n"
     ]
    },
    {
     "name": "stderr",
     "output_type": "stream",
     "text": [
      "sample: 100%|█████████████████████████████████████████████████████████████████████████████████████████████████████████████| 1500/1500 [03:41<00:00,  6.78it/s, 63 steps of size 7.14e-02. acc. prob=0.91]\n"
     ]
    },
    {
     "name": "stdout",
     "output_type": "stream",
     "text": [
      "=======\n",
      "1925\n",
      "=======\n",
      "[MODEL FITTING] Setting training data for the model\n",
      "[MODEL FITTING] Fitting the model\n"
     ]
    },
    {
     "name": "stderr",
     "output_type": "stream",
     "text": [
      "sample: 100%|█████████████████████████████████████████████████████████████████████████████████████████████████████████████| 1500/1500 [03:26<00:00,  7.26it/s, 63 steps of size 6.36e-02. acc. prob=0.92]\n"
     ]
    },
    {
     "name": "stdout",
     "output_type": "stream",
     "text": [
      "=======\n",
      "1950\n",
      "=======\n",
      "[MODEL FITTING] Setting training data for the model\n",
      "[MODEL FITTING] Fitting the model\n"
     ]
    },
    {
     "name": "stderr",
     "output_type": "stream",
     "text": [
      "sample: 100%|█████████████████████████████████████████████████████████████████████████████████████████████████████████████| 1500/1500 [03:39<00:00,  6.83it/s, 63 steps of size 7.27e-02. acc. prob=0.88]\n"
     ]
    },
    {
     "name": "stdout",
     "output_type": "stream",
     "text": [
      "=======\n",
      "1975\n",
      "=======\n",
      "[MODEL FITTING] Setting training data for the model\n",
      "[MODEL FITTING] Fitting the model\n"
     ]
    },
    {
     "name": "stderr",
     "output_type": "stream",
     "text": [
      "sample: 100%|█████████████████████████████████████████████████████████████████████████████████████████████████████████████| 1500/1500 [02:48<00:00,  8.89it/s, 63 steps of size 7.47e-02. acc. prob=0.89]\n"
     ]
    },
    {
     "name": "stdout",
     "output_type": "stream",
     "text": [
      "=======\n",
      "2000\n",
      "=======\n",
      "[MODEL FITTING] Setting training data for the model\n",
      "[MODEL FITTING] Fitting the model\n"
     ]
    },
    {
     "name": "stderr",
     "output_type": "stream",
     "text": [
      "sample: 100%|█████████████████████████████████████████████████████████████████████████████████████████████████████████████| 1500/1500 [01:50<00:00, 13.56it/s, 63 steps of size 9.31e-02. acc. prob=0.90]\n"
     ]
    },
    {
     "name": "stdout",
     "output_type": "stream",
     "text": [
      "=======\n",
      "2004\n",
      "=======\n",
      "[MODEL FITTING] Setting training data for the model\n",
      "[MODEL FITTING] Fitting the model\n"
     ]
    },
    {
     "name": "stderr",
     "output_type": "stream",
     "text": [
      "sample: 100%|█████████████████████████████████████████████████████████████████████████████████████████████████████████████| 1500/1500 [01:09<00:00, 21.67it/s, 31 steps of size 1.44e-01. acc. prob=0.83]\n"
     ]
    },
    {
     "name": "stdout",
     "output_type": "stream",
     "text": [
      "=======\n",
      "2008\n",
      "=======\n",
      "[MODEL FITTING] Setting training data for the model\n",
      "[MODEL FITTING] Fitting the model\n"
     ]
    },
    {
     "name": "stderr",
     "output_type": "stream",
     "text": [
      "sample: 100%|█████████████████████████████████████████████████████████████████████████████████████████████████████████████| 1500/1500 [00:50<00:00, 29.88it/s, 31 steps of size 1.51e-01. acc. prob=0.84]\n"
     ]
    },
    {
     "name": "stdout",
     "output_type": "stream",
     "text": [
      "=======\n",
      "2010\n",
      "=======\n",
      "[MODEL FITTING] Setting training data for the model\n",
      "[MODEL FITTING] Fitting the model\n"
     ]
    },
    {
     "name": "stderr",
     "output_type": "stream",
     "text": [
      "sample: 100%|█████████████████████████████████████████████████████████████████████████████████████████████████████████████| 1500/1500 [00:45<00:00, 33.31it/s, 31 steps of size 1.40e-01. acc. prob=0.86]\n"
     ]
    },
    {
     "name": "stdout",
     "output_type": "stream",
     "text": [
      "=======\n",
      "2011\n",
      "=======\n",
      "[MODEL FITTING] Setting training data for the model\n",
      "[MODEL FITTING] Fitting the model\n"
     ]
    },
    {
     "name": "stderr",
     "output_type": "stream",
     "text": [
      "sample: 100%|█████████████████████████████████████████████████████████████████████████████████████████████████████████████| 1500/1500 [00:43<00:00, 34.20it/s, 31 steps of size 1.35e-01. acc. prob=0.88]\n"
     ]
    },
    {
     "name": "stdout",
     "output_type": "stream",
     "text": [
      "=======\n",
      "2012\n",
      "=======\n",
      "[MODEL FITTING] Setting training data for the model\n",
      "[MODEL FITTING] Fitting the model\n"
     ]
    },
    {
     "name": "stderr",
     "output_type": "stream",
     "text": [
      "sample: 100%|█████████████████████████████████████████████████████████████████████████████████████████████████████████████| 1500/1500 [00:41<00:00, 36.10it/s, 31 steps of size 1.42e-01. acc. prob=0.85]\n"
     ]
    },
    {
     "name": "stdout",
     "output_type": "stream",
     "text": [
      "=======\n",
      "2013\n",
      "=======\n",
      "[MODEL FITTING] Setting training data for the model\n",
      "[MODEL FITTING] Fitting the model\n"
     ]
    },
    {
     "name": "stderr",
     "output_type": "stream",
     "text": [
      "sample: 100%|█████████████████████████████████████████████████████████████████████████████████████████████████████████████| 1500/1500 [00:36<00:00, 40.81it/s, 31 steps of size 1.30e-01. acc. prob=0.87]\n"
     ]
    },
    {
     "name": "stdout",
     "output_type": "stream",
     "text": [
      "=======\n",
      "2014\n",
      "=======\n",
      "[MODEL FITTING] Setting training data for the model\n",
      "[MODEL FITTING] Fitting the model\n"
     ]
    },
    {
     "name": "stderr",
     "output_type": "stream",
     "text": [
      "sample: 100%|█████████████████████████████████████████████████████████████████████████████████████████████████████████████| 1500/1500 [00:32<00:00, 45.72it/s, 31 steps of size 1.62e-01. acc. prob=0.84]\n"
     ]
    },
    {
     "name": "stdout",
     "output_type": "stream",
     "text": [
      "=======\n",
      "2015\n",
      "=======\n",
      "[MODEL FITTING] Setting training data for the model\n",
      "[MODEL FITTING] Fitting the model\n"
     ]
    },
    {
     "name": "stderr",
     "output_type": "stream",
     "text": [
      "sample: 100%|█████████████████████████████████████████████████████████████████████████████████████████████████████████████| 1500/1500 [00:29<00:00, 50.97it/s, 31 steps of size 1.46e-01. acc. prob=0.88]\n"
     ]
    },
    {
     "name": "stdout",
     "output_type": "stream",
     "text": [
      "=======\n",
      "2016\n",
      "=======\n",
      "[MODEL FITTING] Setting training data for the model\n",
      "[MODEL FITTING] Fitting the model\n"
     ]
    },
    {
     "name": "stderr",
     "output_type": "stream",
     "text": [
      "sample: 100%|█████████████████████████████████████████████████████████████████████████████████████████████████████████████| 1500/1500 [00:28<00:00, 53.06it/s, 31 steps of size 1.52e-01. acc. prob=0.88]\n"
     ]
    },
    {
     "name": "stdout",
     "output_type": "stream",
     "text": [
      "=======\n",
      "2017\n",
      "=======\n",
      "[MODEL FITTING] Setting training data for the model\n",
      "[MODEL FITTING] Fitting the model\n"
     ]
    },
    {
     "name": "stderr",
     "output_type": "stream",
     "text": [
      "sample: 100%|█████████████████████████████████████████████████████████████████████████████████████████████████████████████| 1500/1500 [00:23<00:00, 62.63it/s, 31 steps of size 1.29e-01. acc. prob=0.92]\n"
     ]
    },
    {
     "name": "stdout",
     "output_type": "stream",
     "text": [
      "=======\n",
      "2018\n",
      "=======\n",
      "[MODEL FITTING] Setting training data for the model\n",
      "[MODEL FITTING] Fitting the model\n"
     ]
    },
    {
     "name": "stderr",
     "output_type": "stream",
     "text": [
      "sample: 100%|█████████████████████████████████████████████████████████████████████████████████████████████████████████████| 1500/1500 [00:19<00:00, 76.05it/s, 31 steps of size 1.18e-01. acc. prob=0.89]\n"
     ]
    },
    {
     "name": "stdout",
     "output_type": "stream",
     "text": [
      "=======\n",
      "2019\n",
      "=======\n",
      "[MODEL FITTING] Setting training data for the model\n",
      "[MODEL FITTING] Fitting the model\n"
     ]
    },
    {
     "name": "stderr",
     "output_type": "stream",
     "text": [
      "sample: 100%|█████████████████████████████████████████████████████████████████████████████████████████████████████████████| 1500/1500 [00:15<00:00, 96.18it/s, 31 steps of size 1.50e-01. acc. prob=0.86]\n"
     ]
    },
    {
     "name": "stdout",
     "output_type": "stream",
     "text": [
      "=======\n",
      "2020\n",
      "=======\n",
      "[MODEL FITTING] Setting training data for the model\n",
      "[MODEL FITTING] Fitting the model\n"
     ]
    },
    {
     "name": "stderr",
     "output_type": "stream",
     "text": [
      "sample: 100%|████████████████████████████████████████████████████████████████████████████████████████████████████████████| 1500/1500 [00:08<00:00, 175.96it/s, 31 steps of size 1.26e-01. acc. prob=0.92]\n"
     ]
    }
   ],
   "source": [
    "years = [\n",
    "    1872, 1900, 1925, 1950, 1975, 2000,\n",
    "    2004, 2008, 2010, 2011, 2012, 2013,\n",
    "    2014, 2015, 2016, 2017, 2018, 2019,\n",
    "    2020\n",
    "]\n",
    "train_until = 2020\n",
    "test_from = 2021\n",
    "test_until = 2022\n",
    "\n",
    "models = [\n",
    "    bpl.DixonColesMatchPredictor(),\n",
    "    bpl.ExtendedDixonColesMatchPredictor(),\n",
    "    bpl.NeutralDixonColesMatchPredictor()\n",
    "]\n",
    "likelihoods = {}\n",
    "\n",
    "for model in models:\n",
    "    key = type(model)\n",
    "    print(key)\n",
    "    likelihoods[key] = []\n",
    "    for y in years:\n",
    "        print(\"=======\")\n",
    "        print(y)\n",
    "        print(\"=======\")\n",
    "        model = fit_model_between(model, y, train_until)\n",
    "        likelihoods[key].append(test_model_between(model, test_from, test_until))\n"
   ]
  },
  {
   "cell_type": "code",
   "execution_count": 5,
   "id": "41c758c1",
   "metadata": {},
   "outputs": [
    {
     "data": {
      "text/plain": [
       "<matplotlib.legend.Legend at 0x13798c700>"
      ]
     },
     "execution_count": 5,
     "metadata": {},
     "output_type": "execute_result"
    },
    {
     "data": {
      "image/png": "[encoded data removed]",
      "text/plain": [
       "<Figure size 640x480 with 1 Axes>"
      ]
     },
     "metadata": {},
     "output_type": "display_data"
    }
   ],
   "source": [
    "for mod, lik in likelihoods.items():\n",
    "    plt.plot(years, lik, \"o-\", label=mod)\n",
    "plt.xlabel(f\"train from 'year' until {train_until}\")\n",
    "plt.ylabel(f\"log likelihood ({test_from} - {test_until})\")\n",
    "plt.legend()"
   ]
  },
  {
   "cell_type": "code",
   "execution_count": 6,
   "id": "ac0e8a34",
   "metadata": {},
   "outputs": [
    {
     "data": {
      "text/html": [
       "<div>\n",
       "<style scoped>\n",
       "    .dataframe tbody tr th:only-of-type {\n",
       "        vertical-align: middle;\n",
       "    }\n",
       "\n",
       "    .dataframe tbody tr th {\n",
       "        vertical-align: top;\n",
       "    }\n",
       "\n",
       "    .dataframe thead th {\n",
       "        text-align: right;\n",
       "    }\n",
       "</style>\n",
       "<table border=\"1\" class=\"dataframe\">\n",
       "  <thead>\n",
       "    <tr style=\"text-align: right;\">\n",
       "      <th></th>\n",
       "      <th>&lt;class 'bpl.dixon_coles.DixonColesMatchPredictor'&gt;</th>\n",
       "      <th>&lt;class 'bpl.extended_dixon_coles.ExtendedDixonColesMatchPredictor'&gt;</th>\n",
       "      <th>&lt;class 'bpl.neutral_dixon_coles.NeutralDixonColesMatchPredictor'&gt;</th>\n",
       "    </tr>\n",
       "  </thead>\n",
       "  <tbody>\n",
       "    <tr>\n",
       "      <th>1872</th>\n",
       "      <td>-2.824064</td>\n",
       "      <td>-2.821698</td>\n",
       "      <td>-2.811049</td>\n",
       "    </tr>\n",
       "    <tr>\n",
       "      <th>1900</th>\n",
       "      <td>-2.823049</td>\n",
       "      <td>-2.820734</td>\n",
       "      <td>-2.810201</td>\n",
       "    </tr>\n",
       "    <tr>\n",
       "      <th>1925</th>\n",
       "      <td>-2.821930</td>\n",
       "      <td>-2.819475</td>\n",
       "      <td>-2.808629</td>\n",
       "    </tr>\n",
       "    <tr>\n",
       "      <th>1950</th>\n",
       "      <td>-2.812845</td>\n",
       "      <td>-2.809403</td>\n",
       "      <td>-2.797350</td>\n",
       "    </tr>\n",
       "    <tr>\n",
       "      <th>1975</th>\n",
       "      <td>-2.792987</td>\n",
       "      <td>-2.789935</td>\n",
       "      <td>-2.778640</td>\n",
       "    </tr>\n",
       "    <tr>\n",
       "      <th>2000</th>\n",
       "      <td>-2.776008</td>\n",
       "      <td>-2.770831</td>\n",
       "      <td>-2.761619</td>\n",
       "    </tr>\n",
       "    <tr>\n",
       "      <th>2004</th>\n",
       "      <td>-2.771686</td>\n",
       "      <td>-2.765967</td>\n",
       "      <td>-2.757417</td>\n",
       "    </tr>\n",
       "    <tr>\n",
       "      <th>2008</th>\n",
       "      <td>-2.765140</td>\n",
       "      <td>-2.757063</td>\n",
       "      <td>-2.749652</td>\n",
       "    </tr>\n",
       "    <tr>\n",
       "      <th>2010</th>\n",
       "      <td>-2.764656</td>\n",
       "      <td>-2.754939</td>\n",
       "      <td>-2.748580</td>\n",
       "    </tr>\n",
       "    <tr>\n",
       "      <th>2011</th>\n",
       "      <td>-2.760553</td>\n",
       "      <td>-2.749340</td>\n",
       "      <td>-2.743253</td>\n",
       "    </tr>\n",
       "    <tr>\n",
       "      <th>2012</th>\n",
       "      <td>-2.762346</td>\n",
       "      <td>-2.750054</td>\n",
       "      <td>-2.743999</td>\n",
       "    </tr>\n",
       "    <tr>\n",
       "      <th>2013</th>\n",
       "      <td>-2.765699</td>\n",
       "      <td>-2.751767</td>\n",
       "      <td>-2.745974</td>\n",
       "    </tr>\n",
       "    <tr>\n",
       "      <th>2014</th>\n",
       "      <td>-2.761923</td>\n",
       "      <td>-2.745652</td>\n",
       "      <td>-2.740271</td>\n",
       "    </tr>\n",
       "    <tr>\n",
       "      <th>2015</th>\n",
       "      <td>-2.762504</td>\n",
       "      <td>-2.744819</td>\n",
       "      <td>-2.739244</td>\n",
       "    </tr>\n",
       "    <tr>\n",
       "      <th>2016</th>\n",
       "      <td>-2.773522</td>\n",
       "      <td>-2.750867</td>\n",
       "      <td>-2.745584</td>\n",
       "    </tr>\n",
       "    <tr>\n",
       "      <th>2017</th>\n",
       "      <td>-2.790355</td>\n",
       "      <td>-2.758949</td>\n",
       "      <td>-2.753617</td>\n",
       "    </tr>\n",
       "    <tr>\n",
       "      <th>2018</th>\n",
       "      <td>-2.825190</td>\n",
       "      <td>-2.783664</td>\n",
       "      <td>-2.775857</td>\n",
       "    </tr>\n",
       "    <tr>\n",
       "      <th>2019</th>\n",
       "      <td>-2.896860</td>\n",
       "      <td>-2.841399</td>\n",
       "      <td>-2.833475</td>\n",
       "    </tr>\n",
       "    <tr>\n",
       "      <th>2020</th>\n",
       "      <td>-2.949717</td>\n",
       "      <td>-2.944885</td>\n",
       "      <td>-2.925513</td>\n",
       "    </tr>\n",
       "  </tbody>\n",
       "</table>\n",
       "</div>"
      ],
      "text/plain": [
       "      <class 'bpl.dixon_coles.DixonColesMatchPredictor'>  \\\n",
       "1872                                          -2.824064    \n",
       "1900                                          -2.823049    \n",
       "1925                                          -2.821930    \n",
       "1950                                          -2.812845    \n",
       "1975                                          -2.792987    \n",
       "2000                                          -2.776008    \n",
       "2004                                          -2.771686    \n",
       "2008                                          -2.765140    \n",
       "2010                                          -2.764656    \n",
       "2011                                          -2.760553    \n",
       "2012                                          -2.762346    \n",
       "2013                                          -2.765699    \n",
       "2014                                          -2.761923    \n",
       "2015                                          -2.762504    \n",
       "2016                                          -2.773522    \n",
       "2017                                          -2.790355    \n",
       "2018                                          -2.825190    \n",
       "2019                                          -2.896860    \n",
       "2020                                          -2.949717    \n",
       "\n",
       "      <class 'bpl.extended_dixon_coles.ExtendedDixonColesMatchPredictor'>  \\\n",
       "1872                                          -2.821698                     \n",
       "1900                                          -2.820734                     \n",
       "1925                                          -2.819475                     \n",
       "1950                                          -2.809403                     \n",
       "1975                                          -2.789935                     \n",
       "2000                                          -2.770831                     \n",
       "2004                                          -2.765967                     \n",
       "2008                                          -2.757063                     \n",
       "2010                                          -2.754939                     \n",
       "2011                                          -2.749340                     \n",
       "2012                                          -2.750054                     \n",
       "2013                                          -2.751767                     \n",
       "2014                                          -2.745652                     \n",
       "2015                                          -2.744819                     \n",
       "2016                                          -2.750867                     \n",
       "2017                                          -2.758949                     \n",
       "2018                                          -2.783664                     \n",
       "2019                                          -2.841399                     \n",
       "2020                                          -2.944885                     \n",
       "\n",
       "      <class 'bpl.neutral_dixon_coles.NeutralDixonColesMatchPredictor'>  \n",
       "1872                                          -2.811049                  \n",
       "1900                                          -2.810201                  \n",
       "1925                                          -2.808629                  \n",
       "1950                                          -2.797350                  \n",
       "1975                                          -2.778640                  \n",
       "2000                                          -2.761619                  \n",
       "2004                                          -2.757417                  \n",
       "2008                                          -2.749652                  \n",
       "2010                                          -2.748580                  \n",
       "2011                                          -2.743253                  \n",
       "2012                                          -2.743999                  \n",
       "2013                                          -2.745974                  \n",
       "2014                                          -2.740271                  \n",
       "2015                                          -2.739244                  \n",
       "2016                                          -2.745584                  \n",
       "2017                                          -2.753617                  \n",
       "2018                                          -2.775857                  \n",
       "2019                                          -2.833475                  \n",
       "2020                                          -2.925513                  "
      ]
     },
     "execution_count": 6,
     "metadata": {},
     "output_type": "execute_result"
    }
   ],
   "source": [
    "pd.DataFrame(likelihoods, index=years)"
   ]
  },
  {
   "cell_type": "markdown",
   "id": "22eb3b90",
   "metadata": {},
   "source": [
    "Max likelihood at 2015, i.e. when training with 6 full years of data.\n",
    "\n",
    "So for World Cup 2022 may want to include 2016-2022 results."
   ]
  }
 ],
 "metadata": {
  "kernelspec": {
   "display_name": "Python 3 (ipykernel)",
   "language": "python",
   "name": "python3"
  },
  "language_info": {
   "codemirror_mode": {
    "name": "ipython",
    "version": 3
   },
   "file_extension": ".py",
   "mimetype": "text/x-python",
   "name": "python",
   "nbconvert_exporter": "python",
   "pygments_lexer": "ipython3",
   "version": "3.9.13"
  }
 },
 "nbformat": 4,
 "nbformat_minor": 5
}
