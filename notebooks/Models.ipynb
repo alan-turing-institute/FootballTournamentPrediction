{
 "cells": [
  {
   "cell_type": "markdown",
   "id": "43aa1f6e",
   "metadata": {},
   "source": [
    "# Model Comparisons"
   ]
  },
  {
   "cell_type": "code",
   "execution_count": 1,
   "id": "4365379b",
   "metadata": {},
   "outputs": [],
   "source": [
    "import numpy as np\n",
    "import pandas as pd\n",
    "\n",
    "import matplotlib.pyplot as plt\n",
    "import seaborn as sns\n",
    "\n",
    "import bpl\n",
    "\n",
    "from wcpredictor.src.utils import get_and_train_model, test_model"
   ]
  },
  {
   "cell_type": "markdown",
   "id": "64d769e4",
   "metadata": {},
   "source": [
    "- fit up to end of 2020\n",
    "- test on 2021 and 2022\n",
    "- no covariates"
   ]
  },
  {
   "cell_type": "code",
   "execution_count": 2,
   "id": "2dfdde38",
   "metadata": {
    "scrolled": false
   },
   "outputs": [
    {
     "name": "stdout",
     "output_type": "stream",
     "text": [
      "DixonColesMatchPredictor\n",
      "=======\n",
      "1872-1-1\n",
      "=======\n",
      "in get_and_train_model\n",
      "Using 42232 rows in training data\n",
      "[MODEL FITTING] Setting training data for the model\n",
      "[MODEL FITTING] Fitting the model\n"
     ]
    },
    {
     "name": "stderr",
     "output_type": "stream",
     "text": [
      "sample: 100%|████████████████████████████████████████████████████████████████████████████████████████████████████████████| 1500/1500 [05:19<00:00,  4.70it/s, 127 steps of size 3.72e-02. acc. prob=0.92]\n"
     ]
    },
    {
     "name": "stdout",
     "output_type": "stream",
     "text": [
      "=======\n",
      "1925-1-1\n",
      "=======\n",
      "in get_and_train_model\n",
      "Using 41372 rows in training data\n",
      "[MODEL FITTING] Setting training data for the model\n",
      "[MODEL FITTING] Fitting the model\n"
     ]
    },
    {
     "name": "stderr",
     "output_type": "stream",
     "text": [
      "sample: 100%|█████████████████████████████████████████████████████████████████████████████████████████████████████████████| 1500/1500 [03:25<00:00,  7.32it/s, 63 steps of size 4.66e-02. acc. prob=0.91]\n"
     ]
    },
    {
     "name": "stdout",
     "output_type": "stream",
     "text": [
      "=======\n",
      "1975-1-1\n",
      "=======\n",
      "in get_and_train_model\n",
      "Using 32832 rows in training data\n",
      "[MODEL FITTING] Setting training data for the model\n",
      "[MODEL FITTING] Fitting the model\n"
     ]
    },
    {
     "name": "stderr",
     "output_type": "stream",
     "text": [
      "sample: 100%|█████████████████████████████████████████████████████████████████████████████████████████████████████████████| 1500/1500 [02:48<00:00,  8.91it/s, 63 steps of size 6.05e-02. acc. prob=0.94]\n"
     ]
    },
    {
     "name": "stdout",
     "output_type": "stream",
     "text": [
      "=======\n",
      "2000-1-1\n",
      "=======\n",
      "in get_and_train_model\n",
      "Using 19456 rows in training data\n",
      "[MODEL FITTING] Setting training data for the model\n",
      "[MODEL FITTING] Fitting the model\n"
     ]
    },
    {
     "name": "stderr",
     "output_type": "stream",
     "text": [
      "sample: 100%|█████████████████████████████████████████████████████████████████████████████████████████████████████████████| 1500/1500 [01:25<00:00, 17.60it/s, 63 steps of size 8.03e-02. acc. prob=0.92]\n"
     ]
    },
    {
     "name": "stdout",
     "output_type": "stream",
     "text": [
      "=======\n",
      "2008-1-1\n",
      "=======\n",
      "in get_and_train_model\n",
      "Using 12041 rows in training data\n",
      "[MODEL FITTING] Setting training data for the model\n",
      "[MODEL FITTING] Fitting the model\n"
     ]
    },
    {
     "name": "stderr",
     "output_type": "stream",
     "text": [
      "sample: 100%|█████████████████████████████████████████████████████████████████████████████████████████████████████████████| 1500/1500 [00:42<00:00, 35.39it/s, 31 steps of size 1.05e-01. acc. prob=0.91]\n"
     ]
    },
    {
     "name": "stdout",
     "output_type": "stream",
     "text": [
      "=======\n",
      "2012-1-1\n",
      "=======\n",
      "in get_and_train_model\n",
      "Using 8097 rows in training data\n",
      "[MODEL FITTING] Setting training data for the model\n",
      "[MODEL FITTING] Fitting the model\n"
     ]
    },
    {
     "name": "stderr",
     "output_type": "stream",
     "text": [
      "sample: 100%|█████████████████████████████████████████████████████████████████████████████████████████████████████████████| 1500/1500 [00:28<00:00, 52.79it/s, 31 steps of size 1.28e-01. acc. prob=0.90]\n"
     ]
    },
    {
     "name": "stdout",
     "output_type": "stream",
     "text": [
      "=======\n",
      "2014-1-1\n",
      "=======\n",
      "in get_and_train_model\n",
      "Using 6122 rows in training data\n",
      "[MODEL FITTING] Setting training data for the model\n",
      "[MODEL FITTING] Fitting the model\n"
     ]
    },
    {
     "name": "stderr",
     "output_type": "stream",
     "text": [
      "sample: 100%|█████████████████████████████████████████████████████████████████████████████████████████████████████████████| 1500/1500 [00:22<00:00, 66.77it/s, 31 steps of size 1.30e-01. acc. prob=0.91]\n"
     ]
    },
    {
     "name": "stdout",
     "output_type": "stream",
     "text": [
      "=======\n",
      "2015-1-1\n",
      "=======\n",
      "in get_and_train_model\n",
      "Using 5262 rows in training data\n",
      "[MODEL FITTING] Setting training data for the model\n",
      "[MODEL FITTING] Fitting the model\n"
     ]
    },
    {
     "name": "stderr",
     "output_type": "stream",
     "text": [
      "sample: 100%|█████████████████████████████████████████████████████████████████████████████████████████████████████████████| 1500/1500 [00:17<00:00, 83.50it/s, 31 steps of size 1.38e-01. acc. prob=0.91]\n"
     ]
    },
    {
     "name": "stdout",
     "output_type": "stream",
     "text": [
      "=======\n",
      "2016-1-1\n",
      "=======\n",
      "in get_and_train_model\n",
      "Using 4260 rows in training data\n",
      "[MODEL FITTING] Setting training data for the model\n",
      "[MODEL FITTING] Fitting the model\n"
     ]
    },
    {
     "name": "stderr",
     "output_type": "stream",
     "text": [
      "sample: 100%|█████████████████████████████████████████████████████████████████████████████████████████████████████████████| 1500/1500 [00:17<00:00, 84.71it/s, 31 steps of size 1.48e-01. acc. prob=0.90]\n"
     ]
    },
    {
     "name": "stdout",
     "output_type": "stream",
     "text": [
      "=======\n",
      "2017-1-1\n",
      "=======\n",
      "in get_and_train_model\n",
      "Using 3332 rows in training data\n",
      "[MODEL FITTING] Setting training data for the model\n",
      "[MODEL FITTING] Fitting the model\n"
     ]
    },
    {
     "name": "stderr",
     "output_type": "stream",
     "text": [
      "sample: 100%|████████████████████████████████████████████████████████████████████████████████████████████████████████████| 1500/1500 [00:13<00:00, 115.24it/s, 15 steps of size 2.14e-01. acc. prob=0.85]\n"
     ]
    },
    {
     "name": "stdout",
     "output_type": "stream",
     "text": [
      "=======\n",
      "2018-1-1\n",
      "=======\n",
      "in get_and_train_model\n",
      "Using 2368 rows in training data\n",
      "[MODEL FITTING] Setting training data for the model\n",
      "[MODEL FITTING] Fitting the model\n"
     ]
    },
    {
     "name": "stderr",
     "output_type": "stream",
     "text": [
      "sample: 100%|████████████████████████████████████████████████████████████████████████████████████████████████████████████| 1500/1500 [00:10<00:00, 147.66it/s, 31 steps of size 1.87e-01. acc. prob=0.89]\n"
     ]
    },
    {
     "name": "stdout",
     "output_type": "stream",
     "text": [
      "=======\n",
      "2019-1-1\n",
      "=======\n",
      "in get_and_train_model\n",
      "Using 1460 rows in training data\n",
      "[MODEL FITTING] Setting training data for the model\n",
      "[MODEL FITTING] Fitting the model\n"
     ]
    },
    {
     "name": "stderr",
     "output_type": "stream",
     "text": [
      "sample: 100%|████████████████████████████████████████████████████████████████████████████████████████████████████████████| 1500/1500 [00:08<00:00, 187.36it/s, 15 steps of size 2.26e-01. acc. prob=0.87]\n"
     ]
    },
    {
     "name": "stdout",
     "output_type": "stream",
     "text": [
      "=======\n",
      "2020-1-1\n",
      "=======\n",
      "in get_and_train_model\n",
      "Using 299 rows in training data\n",
      "[MODEL FITTING] Setting training data for the model\n",
      "[MODEL FITTING] Fitting the model\n"
     ]
    },
    {
     "name": "stderr",
     "output_type": "stream",
     "text": [
      "sample: 100%|████████████████████████████████████████████████████████████████████████████████████████████████████████████| 1500/1500 [00:06<00:00, 245.07it/s, 15 steps of size 2.81e-01. acc. prob=0.85]\n",
      "/Users/jroberts/GitHub/WorldCupPrediction/wcpredictor/src/utils.py:115: RuntimeWarning: invalid value encountered in log\n",
      "  return np.log(proba).sum() / len(proba)  # log likelihood\n"
     ]
    },
    {
     "name": "stdout",
     "output_type": "stream",
     "text": [
      "ExtendedDixonColesMatchPredictor\n",
      "=======\n",
      "1872-1-1\n",
      "=======\n",
      "in get_and_train_model\n",
      "Using 42232 rows in training data\n",
      "[MODEL FITTING] Setting training data for the model\n",
      "[MODEL FITTING] Fitting the model\n"
     ]
    },
    {
     "name": "stderr",
     "output_type": "stream",
     "text": [
      "sample: 100%|█████████████████████████████████████████████████████████████████████████████████████████████████████████████| 1500/1500 [03:44<00:00,  6.67it/s, 63 steps of size 9.50e-02. acc. prob=0.86]\n"
     ]
    },
    {
     "name": "stdout",
     "output_type": "stream",
     "text": [
      "=======\n",
      "1925-1-1\n",
      "=======\n",
      "in get_and_train_model\n",
      "Using 41372 rows in training data\n",
      "[MODEL FITTING] Setting training data for the model\n",
      "[MODEL FITTING] Fitting the model\n"
     ]
    },
    {
     "name": "stderr",
     "output_type": "stream",
     "text": [
      "sample: 100%|█████████████████████████████████████████████████████████████████████████████████████████████████████████████| 1500/1500 [04:12<00:00,  5.93it/s, 63 steps of size 5.83e-02. acc. prob=0.92]\n"
     ]
    },
    {
     "name": "stdout",
     "output_type": "stream",
     "text": [
      "=======\n",
      "1975-1-1\n",
      "=======\n",
      "in get_and_train_model\n",
      "Using 32832 rows in training data\n",
      "[MODEL FITTING] Setting training data for the model\n",
      "[MODEL FITTING] Fitting the model\n"
     ]
    },
    {
     "name": "stderr",
     "output_type": "stream",
     "text": [
      "sample: 100%|█████████████████████████████████████████████████████████████████████████████████████████████████████████████| 1500/1500 [02:48<00:00,  8.90it/s, 63 steps of size 7.03e-02. acc. prob=0.91]\n"
     ]
    },
    {
     "name": "stdout",
     "output_type": "stream",
     "text": [
      "=======\n",
      "2000-1-1\n",
      "=======\n",
      "in get_and_train_model\n",
      "Using 19456 rows in training data\n",
      "[MODEL FITTING] Setting training data for the model\n",
      "[MODEL FITTING] Fitting the model\n"
     ]
    },
    {
     "name": "stderr",
     "output_type": "stream",
     "text": [
      "sample: 100%|█████████████████████████████████████████████████████████████████████████████████████████████████████████████| 1500/1500 [01:23<00:00, 17.96it/s, 31 steps of size 1.13e-01. acc. prob=0.90]\n"
     ]
    },
    {
     "name": "stdout",
     "output_type": "stream",
     "text": [
      "=======\n",
      "2008-1-1\n",
      "=======\n",
      "in get_and_train_model\n",
      "Using 12041 rows in training data\n",
      "[MODEL FITTING] Setting training data for the model\n",
      "[MODEL FITTING] Fitting the model\n"
     ]
    },
    {
     "name": "stderr",
     "output_type": "stream",
     "text": [
      "sample: 100%|█████████████████████████████████████████████████████████████████████████████████████████████████████████████| 1500/1500 [00:52<00:00, 28.46it/s, 31 steps of size 1.15e-01. acc. prob=0.90]\n"
     ]
    },
    {
     "name": "stdout",
     "output_type": "stream",
     "text": [
      "=======\n",
      "2012-1-1\n",
      "=======\n",
      "in get_and_train_model\n",
      "Using 8097 rows in training data\n",
      "[MODEL FITTING] Setting training data for the model\n",
      "[MODEL FITTING] Fitting the model\n"
     ]
    },
    {
     "name": "stderr",
     "output_type": "stream",
     "text": [
      "sample: 100%|█████████████████████████████████████████████████████████████████████████████████████████████████████████████| 1500/1500 [00:36<00:00, 41.08it/s, 31 steps of size 1.89e-01. acc. prob=0.79]\n"
     ]
    },
    {
     "name": "stdout",
     "output_type": "stream",
     "text": [
      "=======\n",
      "2014-1-1\n",
      "=======\n",
      "in get_and_train_model\n",
      "Using 6122 rows in training data\n",
      "[MODEL FITTING] Setting training data for the model\n",
      "[MODEL FITTING] Fitting the model\n"
     ]
    },
    {
     "name": "stderr",
     "output_type": "stream",
     "text": [
      "sample: 100%|█████████████████████████████████████████████████████████████████████████████████████████████████████████████| 1500/1500 [00:31<00:00, 48.02it/s, 31 steps of size 1.30e-01. acc. prob=0.88]\n"
     ]
    },
    {
     "name": "stdout",
     "output_type": "stream",
     "text": [
      "=======\n",
      "2015-1-1\n",
      "=======\n",
      "in get_and_train_model\n",
      "Using 5262 rows in training data\n",
      "[MODEL FITTING] Setting training data for the model\n",
      "[MODEL FITTING] Fitting the model\n"
     ]
    },
    {
     "name": "stderr",
     "output_type": "stream",
     "text": [
      "sample: 100%|█████████████████████████████████████████████████████████████████████████████████████████████████████████████| 1500/1500 [00:27<00:00, 53.73it/s, 31 steps of size 1.57e-01. acc. prob=0.85]\n"
     ]
    },
    {
     "name": "stdout",
     "output_type": "stream",
     "text": [
      "=======\n",
      "2016-1-1\n",
      "=======\n",
      "in get_and_train_model\n",
      "Using 4260 rows in training data\n",
      "[MODEL FITTING] Setting training data for the model\n",
      "[MODEL FITTING] Fitting the model\n"
     ]
    },
    {
     "name": "stderr",
     "output_type": "stream",
     "text": [
      "sample: 100%|█████████████████████████████████████████████████████████████████████████████████████████████████████████████| 1500/1500 [00:23<00:00, 64.79it/s, 31 steps of size 1.43e-01. acc. prob=0.89]\n"
     ]
    },
    {
     "name": "stdout",
     "output_type": "stream",
     "text": [
      "=======\n",
      "2017-1-1\n",
      "=======\n",
      "in get_and_train_model\n",
      "Using 3332 rows in training data\n",
      "[MODEL FITTING] Setting training data for the model\n",
      "[MODEL FITTING] Fitting the model\n"
     ]
    },
    {
     "name": "stderr",
     "output_type": "stream",
     "text": [
      "sample: 100%|█████████████████████████████████████████████████████████████████████████████████████████████████████████████| 1500/1500 [00:19<00:00, 76.98it/s, 31 steps of size 1.73e-01. acc. prob=0.81]\n"
     ]
    },
    {
     "name": "stdout",
     "output_type": "stream",
     "text": [
      "=======\n",
      "2018-1-1\n",
      "=======\n",
      "in get_and_train_model\n",
      "Using 2368 rows in training data\n",
      "[MODEL FITTING] Setting training data for the model\n",
      "[MODEL FITTING] Fitting the model\n"
     ]
    },
    {
     "name": "stderr",
     "output_type": "stream",
     "text": [
      "sample: 100%|█████████████████████████████████████████████████████████████████████████████████████████████████████████████| 1500/1500 [00:15<00:00, 99.87it/s, 31 steps of size 1.47e-01. acc. prob=0.87]\n"
     ]
    },
    {
     "name": "stdout",
     "output_type": "stream",
     "text": [
      "=======\n",
      "2019-1-1\n",
      "=======\n",
      "in get_and_train_model\n",
      "Using 1460 rows in training data\n",
      "[MODEL FITTING] Setting training data for the model\n",
      "[MODEL FITTING] Fitting the model\n"
     ]
    },
    {
     "name": "stderr",
     "output_type": "stream",
     "text": [
      "sample: 100%|████████████████████████████████████████████████████████████████████████████████████████████████████████████| 1500/1500 [00:12<00:00, 120.79it/s, 31 steps of size 1.71e-01. acc. prob=0.86]\n"
     ]
    },
    {
     "name": "stdout",
     "output_type": "stream",
     "text": [
      "=======\n",
      "2020-1-1\n",
      "=======\n",
      "in get_and_train_model\n",
      "Using 299 rows in training data\n",
      "[MODEL FITTING] Setting training data for the model\n",
      "[MODEL FITTING] Fitting the model\n"
     ]
    },
    {
     "name": "stderr",
     "output_type": "stream",
     "text": [
      "sample: 100%|████████████████████████████████████████████████████████████████████████████████████████████████████████████| 1500/1500 [00:07<00:00, 188.07it/s, 31 steps of size 1.58e-01. acc. prob=0.91]\n",
      "/Users/jroberts/GitHub/WorldCupPrediction/wcpredictor/src/utils.py:115: RuntimeWarning: invalid value encountered in log\n",
      "  return np.log(proba).sum() / len(proba)  # log likelihood\n"
     ]
    },
    {
     "name": "stdout",
     "output_type": "stream",
     "text": [
      "NeutralDixonColesMatchPredictor\n",
      "=======\n",
      "1872-1-1\n",
      "=======\n",
      "in get_and_train_model\n",
      "Using 42232 rows in training data\n",
      "[MODEL FITTING] Setting training data for the model\n",
      "[MODEL FITTING] Fitting the model\n"
     ]
    },
    {
     "name": "stderr",
     "output_type": "stream",
     "text": [
      "sample: 100%|████████████████████████████████████████████████████████████████████████████████████████████████████████████| 1500/1500 [14:05<00:00,  1.77it/s, 255 steps of size 2.02e-02. acc. prob=0.92]\n"
     ]
    },
    {
     "name": "stdout",
     "output_type": "stream",
     "text": [
      "=======\n",
      "1925-1-1\n",
      "=======\n",
      "in get_and_train_model\n",
      "Using 41372 rows in training data\n",
      "[MODEL FITTING] Setting training data for the model\n",
      "[MODEL FITTING] Fitting the model\n"
     ]
    },
    {
     "name": "stderr",
     "output_type": "stream",
     "text": [
      "sample: 100%|████████████████████████████████████████████████████████████████████████████████████████████████████████████| 1500/1500 [14:24<00:00,  1.73it/s, 255 steps of size 1.95e-02. acc. prob=0.92]\n"
     ]
    },
    {
     "name": "stdout",
     "output_type": "stream",
     "text": [
      "=======\n",
      "1975-1-1\n",
      "=======\n",
      "in get_and_train_model\n",
      "Using 32832 rows in training data\n",
      "[MODEL FITTING] Setting training data for the model\n",
      "[MODEL FITTING] Fitting the model\n"
     ]
    },
    {
     "name": "stderr",
     "output_type": "stream",
     "text": [
      "sample: 100%|████████████████████████████████████████████████████████████████████████████████████████████████████████████| 1500/1500 [06:36<00:00,  3.78it/s, 127 steps of size 2.80e-02. acc. prob=0.90]\n"
     ]
    },
    {
     "name": "stdout",
     "output_type": "stream",
     "text": [
      "=======\n",
      "2000-1-1\n",
      "=======\n",
      "in get_and_train_model\n",
      "Using 19456 rows in training data\n",
      "[MODEL FITTING] Setting training data for the model\n",
      "[MODEL FITTING] Fitting the model\n"
     ]
    },
    {
     "name": "stderr",
     "output_type": "stream",
     "text": [
      "sample: 100%|████████████████████████████████████████████████████████████████████████████████████████████████████████████| 1500/1500 [03:51<00:00,  6.48it/s, 127 steps of size 3.01e-02. acc. prob=0.93]\n"
     ]
    },
    {
     "name": "stdout",
     "output_type": "stream",
     "text": [
      "=======\n",
      "2008-1-1\n",
      "=======\n",
      "in get_and_train_model\n",
      "Using 12041 rows in training data\n",
      "[MODEL FITTING] Setting training data for the model\n",
      "[MODEL FITTING] Fitting the model\n"
     ]
    },
    {
     "name": "stderr",
     "output_type": "stream",
     "text": [
      "sample: 100%|████████████████████████████████████████████████████████████████████████████████████████████████████████████| 1500/1500 [02:24<00:00, 10.37it/s, 127 steps of size 3.59e-02. acc. prob=0.93]\n"
     ]
    },
    {
     "name": "stdout",
     "output_type": "stream",
     "text": [
      "=======\n",
      "2012-1-1\n",
      "=======\n",
      "in get_and_train_model\n",
      "Using 8097 rows in training data\n",
      "[MODEL FITTING] Setting training data for the model\n",
      "[MODEL FITTING] Fitting the model\n"
     ]
    },
    {
     "name": "stderr",
     "output_type": "stream",
     "text": [
      "sample: 100%|████████████████████████████████████████████████████████████████████████████████████████████████████████████| 1500/1500 [01:37<00:00, 15.35it/s, 127 steps of size 4.43e-02. acc. prob=0.94]\n"
     ]
    },
    {
     "name": "stdout",
     "output_type": "stream",
     "text": [
      "=======\n",
      "2014-1-1\n",
      "=======\n",
      "in get_and_train_model\n",
      "Using 6122 rows in training data\n",
      "[MODEL FITTING] Setting training data for the model\n",
      "[MODEL FITTING] Fitting the model\n"
     ]
    },
    {
     "name": "stderr",
     "output_type": "stream",
     "text": [
      "sample: 100%|█████████████████████████████████████████████████████████████████████████████████████████████████████████████| 1500/1500 [00:56<00:00, 26.76it/s, 63 steps of size 5.40e-02. acc. prob=0.92]\n"
     ]
    },
    {
     "name": "stdout",
     "output_type": "stream",
     "text": [
      "=======\n",
      "2015-1-1\n",
      "=======\n",
      "in get_and_train_model\n",
      "Using 5262 rows in training data\n",
      "[MODEL FITTING] Setting training data for the model\n",
      "[MODEL FITTING] Fitting the model\n"
     ]
    },
    {
     "name": "stderr",
     "output_type": "stream",
     "text": [
      "sample: 100%|█████████████████████████████████████████████████████████████████████████████████████████████████████████████| 1500/1500 [00:49<00:00, 30.56it/s, 63 steps of size 5.92e-02. acc. prob=0.91]\n"
     ]
    },
    {
     "name": "stdout",
     "output_type": "stream",
     "text": [
      "=======\n",
      "2016-1-1\n",
      "=======\n",
      "in get_and_train_model\n",
      "Using 4260 rows in training data\n",
      "[MODEL FITTING] Setting training data for the model\n",
      "[MODEL FITTING] Fitting the model\n"
     ]
    },
    {
     "name": "stderr",
     "output_type": "stream",
     "text": [
      "sample: 100%|█████████████████████████████████████████████████████████████████████████████████████████████████████████████| 1500/1500 [00:42<00:00, 35.46it/s, 63 steps of size 6.16e-02. acc. prob=0.92]\n"
     ]
    },
    {
     "name": "stdout",
     "output_type": "stream",
     "text": [
      "=======\n",
      "2017-1-1\n",
      "=======\n",
      "in get_and_train_model\n",
      "Using 3332 rows in training data\n",
      "[MODEL FITTING] Setting training data for the model\n",
      "[MODEL FITTING] Fitting the model\n"
     ]
    },
    {
     "name": "stderr",
     "output_type": "stream",
     "text": [
      "sample: 100%|█████████████████████████████████████████████████████████████████████████████████████████████████████████████| 1500/1500 [00:37<00:00, 40.07it/s, 63 steps of size 6.85e-02. acc. prob=0.92]\n"
     ]
    },
    {
     "name": "stdout",
     "output_type": "stream",
     "text": [
      "=======\n",
      "2018-1-1\n",
      "=======\n",
      "in get_and_train_model\n",
      "Using 2368 rows in training data\n",
      "[MODEL FITTING] Setting training data for the model\n",
      "[MODEL FITTING] Fitting the model\n"
     ]
    },
    {
     "name": "stderr",
     "output_type": "stream",
     "text": [
      "sample: 100%|█████████████████████████████████████████████████████████████████████████████████████████████████████████████| 1500/1500 [00:28<00:00, 52.41it/s, 63 steps of size 8.49e-02. acc. prob=0.90]\n"
     ]
    },
    {
     "name": "stdout",
     "output_type": "stream",
     "text": [
      "=======\n",
      "2019-1-1\n",
      "=======\n",
      "in get_and_train_model\n",
      "Using 1460 rows in training data\n",
      "[MODEL FITTING] Setting training data for the model\n",
      "[MODEL FITTING] Fitting the model\n"
     ]
    },
    {
     "name": "stderr",
     "output_type": "stream",
     "text": [
      "sample: 100%|█████████████████████████████████████████████████████████████████████████████████████████████████████████████| 1500/1500 [00:20<00:00, 74.41it/s, 31 steps of size 1.03e-01. acc. prob=0.89]\n"
     ]
    },
    {
     "name": "stdout",
     "output_type": "stream",
     "text": [
      "=======\n",
      "2020-1-1\n",
      "=======\n",
      "in get_and_train_model\n",
      "Using 299 rows in training data\n",
      "[MODEL FITTING] Setting training data for the model\n",
      "[MODEL FITTING] Fitting the model\n"
     ]
    },
    {
     "name": "stderr",
     "output_type": "stream",
     "text": [
      "sample: 100%|████████████████████████████████████████████████████████████████████████████████████████████████████████████| 1500/1500 [00:12<00:00, 120.02it/s, 31 steps of size 1.44e-01. acc. prob=0.87]\n",
      "/Users/jroberts/GitHub/WorldCupPrediction/wcpredictor/src/utils.py:115: RuntimeWarning: invalid value encountered in log\n",
      "  return np.log(proba).sum() / len(proba)  # log likelihood\n"
     ]
    },
    {
     "name": "stdout",
     "output_type": "stream",
     "text": [
      "NeutralDixonColesMatchPredictorWC\n",
      "=======\n",
      "1872-1-1\n",
      "=======\n",
      "in get_and_train_model\n",
      "Using 42232 rows in training data\n",
      "[MODEL FITTING] Setting training data for the model\n",
      "[MODEL FITTING] Fitting the model\n"
     ]
    },
    {
     "name": "stderr",
     "output_type": "stream",
     "text": [
      "sample: 100%|████████████████████████████████████████████████████████████████████████████████████████████████████████████| 1500/1500 [20:25<00:00,  1.22it/s, 255 steps of size 1.80e-02. acc. prob=0.89]\n"
     ]
    },
    {
     "name": "stdout",
     "output_type": "stream",
     "text": [
      "=======\n",
      "1925-1-1\n",
      "=======\n",
      "in get_and_train_model\n",
      "Using 41372 rows in training data\n",
      "[MODEL FITTING] Setting training data for the model\n",
      "[MODEL FITTING] Fitting the model\n"
     ]
    },
    {
     "name": "stderr",
     "output_type": "stream",
     "text": [
      "sample: 100%|████████████████████████████████████████████████████████████████████████████████████████████████████████████| 1500/1500 [17:55<00:00,  1.40it/s, 255 steps of size 1.83e-02. acc. prob=0.87]\n"
     ]
    },
    {
     "name": "stdout",
     "output_type": "stream",
     "text": [
      "=======\n",
      "1975-1-1\n",
      "=======\n",
      "in get_and_train_model\n",
      "Using 32832 rows in training data\n",
      "[MODEL FITTING] Setting training data for the model\n",
      "[MODEL FITTING] Fitting the model\n"
     ]
    },
    {
     "name": "stderr",
     "output_type": "stream",
     "text": [
      "sample: 100%|████████████████████████████████████████████████████████████████████████████████████████████████████████████| 1500/1500 [12:54<00:00,  1.94it/s, 255 steps of size 2.09e-02. acc. prob=0.85]\n"
     ]
    },
    {
     "name": "stdout",
     "output_type": "stream",
     "text": [
      "=======\n",
      "2000-1-1\n",
      "=======\n",
      "in get_and_train_model\n",
      "Using 19456 rows in training data\n",
      "[MODEL FITTING] Setting training data for the model\n",
      "[MODEL FITTING] Fitting the model\n"
     ]
    },
    {
     "name": "stderr",
     "output_type": "stream",
     "text": [
      "sample: 100%|████████████████████████████████████████████████████████████████████████████████████████████████████████████| 1500/1500 [05:01<00:00,  4.97it/s, 127 steps of size 2.88e-02. acc. prob=0.90]\n"
     ]
    },
    {
     "name": "stdout",
     "output_type": "stream",
     "text": [
      "=======\n",
      "2008-1-1\n",
      "=======\n",
      "in get_and_train_model\n",
      "Using 12041 rows in training data\n",
      "[MODEL FITTING] Setting training data for the model\n",
      "[MODEL FITTING] Fitting the model\n"
     ]
    },
    {
     "name": "stderr",
     "output_type": "stream",
     "text": [
      "sample: 100%|████████████████████████████████████████████████████████████████████████████████████████████████████████████| 1500/1500 [03:14<00:00,  7.72it/s, 127 steps of size 3.79e-02. acc. prob=0.89]\n"
     ]
    },
    {
     "name": "stdout",
     "output_type": "stream",
     "text": [
      "=======\n",
      "2012-1-1\n",
      "=======\n",
      "in get_and_train_model\n",
      "Using 8097 rows in training data\n",
      "[MODEL FITTING] Setting training data for the model\n",
      "[MODEL FITTING] Fitting the model\n"
     ]
    },
    {
     "name": "stderr",
     "output_type": "stream",
     "text": [
      "sample: 100%|████████████████████████████████████████████████████████████████████████████████████████████████████████████| 1500/1500 [02:04<00:00, 12.08it/s, 127 steps of size 4.32e-02. acc. prob=0.90]\n"
     ]
    },
    {
     "name": "stdout",
     "output_type": "stream",
     "text": [
      "=======\n",
      "2014-1-1\n",
      "=======\n",
      "in get_and_train_model\n",
      "Using 6122 rows in training data\n",
      "[MODEL FITTING] Setting training data for the model\n",
      "[MODEL FITTING] Fitting the model\n"
     ]
    },
    {
     "name": "stderr",
     "output_type": "stream",
     "text": [
      "sample: 100%|█████████████████████████████████████████████████████████████████████████████████████████████████████████████| 1500/1500 [01:16<00:00, 19.64it/s, 63 steps of size 4.92e-02. acc. prob=0.91]\n"
     ]
    },
    {
     "name": "stdout",
     "output_type": "stream",
     "text": [
      "=======\n",
      "2015-1-1\n",
      "=======\n",
      "in get_and_train_model\n",
      "Using 5262 rows in training data\n",
      "[MODEL FITTING] Setting training data for the model\n",
      "[MODEL FITTING] Fitting the model\n"
     ]
    },
    {
     "name": "stderr",
     "output_type": "stream",
     "text": [
      "sample: 100%|█████████████████████████████████████████████████████████████████████████████████████████████████████████████| 1500/1500 [00:57<00:00, 26.31it/s, 63 steps of size 5.98e-02. acc. prob=0.88]\n"
     ]
    },
    {
     "name": "stdout",
     "output_type": "stream",
     "text": [
      "=======\n",
      "2016-1-1\n",
      "=======\n",
      "in get_and_train_model\n",
      "Using 4260 rows in training data\n",
      "[MODEL FITTING] Setting training data for the model\n",
      "[MODEL FITTING] Fitting the model\n"
     ]
    },
    {
     "name": "stderr",
     "output_type": "stream",
     "text": [
      "sample: 100%|█████████████████████████████████████████████████████████████████████████████████████████████████████████████| 1500/1500 [00:47<00:00, 31.41it/s, 63 steps of size 6.31e-02. acc. prob=0.88]\n"
     ]
    },
    {
     "name": "stdout",
     "output_type": "stream",
     "text": [
      "=======\n",
      "2017-1-1\n",
      "=======\n",
      "in get_and_train_model\n",
      "Using 3332 rows in training data\n",
      "[MODEL FITTING] Setting training data for the model\n",
      "[MODEL FITTING] Fitting the model\n"
     ]
    },
    {
     "name": "stderr",
     "output_type": "stream",
     "text": [
      "sample: 100%|█████████████████████████████████████████████████████████████████████████████████████████████████████████████| 1500/1500 [00:40<00:00, 37.23it/s, 63 steps of size 6.25e-02. acc. prob=0.89]\n"
     ]
    },
    {
     "name": "stdout",
     "output_type": "stream",
     "text": [
      "=======\n",
      "2018-1-1\n",
      "=======\n",
      "in get_and_train_model\n",
      "Using 2368 rows in training data\n",
      "[MODEL FITTING] Setting training data for the model\n",
      "[MODEL FITTING] Fitting the model\n"
     ]
    },
    {
     "name": "stderr",
     "output_type": "stream",
     "text": [
      "sample: 100%|█████████████████████████████████████████████████████████████████████████████████████████████████████████████| 1500/1500 [00:30<00:00, 48.96it/s, 63 steps of size 7.84e-02. acc. prob=0.88]\n"
     ]
    },
    {
     "name": "stdout",
     "output_type": "stream",
     "text": [
      "=======\n",
      "2019-1-1\n",
      "=======\n",
      "in get_and_train_model\n",
      "Using 1460 rows in training data\n",
      "[MODEL FITTING] Setting training data for the model\n",
      "[MODEL FITTING] Fitting the model\n"
     ]
    },
    {
     "name": "stderr",
     "output_type": "stream",
     "text": [
      "sample: 100%|█████████████████████████████████████████████████████████████████████████████████████████████████████████████| 1500/1500 [00:24<00:00, 61.89it/s, 63 steps of size 8.09e-02. acc. prob=0.91]\n"
     ]
    },
    {
     "name": "stdout",
     "output_type": "stream",
     "text": [
      "=======\n",
      "2020-1-1\n",
      "=======\n",
      "in get_and_train_model\n",
      "Using 299 rows in training data\n",
      "[MODEL FITTING] Setting training data for the model\n",
      "[MODEL FITTING] Fitting the model\n"
     ]
    },
    {
     "name": "stderr",
     "output_type": "stream",
     "text": [
      "sample: 100%|████████████████████████████████████████████████████████████████████████████████████████████████████████████| 1500/1500 [00:11<00:00, 133.17it/s, 31 steps of size 1.10e-01. acc. prob=0.91]\n",
      "/Users/jroberts/GitHub/WorldCupPrediction/wcpredictor/src/utils.py:115: RuntimeWarning: invalid value encountered in log\n",
      "  return np.log(proba).sum() / len(proba)  # log likelihood\n"
     ]
    }
   ],
   "source": [
    "years = [\n",
    "    \"1872-1-1\", \"1925-1-1\", \"1975-1-1\", \"2000-1-1\", \"2008-1-1\",\n",
    "    \"2012-1-1\", \"2014-1-1\", \"2015-1-1\", \"2016-1-1\", \"2017-1-1\",\n",
    "    \"2018-1-1\", \"2019-1-1\", \"2020-1-1\"\n",
    "]\n",
    "train_end = \"2020-12-31\"\n",
    "test_start = \"2021-1-1\"\n",
    "test_end = \"2022-12-31\"\n",
    "\n",
    "models = [\n",
    "    bpl.DixonColesMatchPredictor(),\n",
    "    bpl.ExtendedDixonColesMatchPredictor(),\n",
    "    bpl.NeutralDixonColesMatchPredictor(),\n",
    "    bpl.NeutralDixonColesMatchPredictorWC()\n",
    "]\n",
    "likelihoods = {}\n",
    "\n",
    "for model in models:\n",
    "    key = type(model).__name__\n",
    "    print(key)\n",
    "    likelihoods[key] = []\n",
    "    for train_start in years:\n",
    "        print(\"=======\")\n",
    "        print(train_start)\n",
    "        print(\"=======\")\n",
    "        model = get_and_train_model(\n",
    "            start_date=train_start, end_date=train_end, model=model, rankings_source=None\n",
    "        ).model\n",
    "        likelihoods[key].append(test_model(\n",
    "            model=model, start_date=test_start, end_date=test_end\n",
    "        ))\n"
   ]
  },
  {
   "cell_type": "code",
   "execution_count": 3,
   "id": "41c758c1",
   "metadata": {},
   "outputs": [
    {
     "data": {
      "text/plain": [
       "<matplotlib.legend.Legend at 0x130a1df10>"
      ]
     },
     "execution_count": 3,
     "metadata": {},
     "output_type": "execute_result"
    },
    {
     "data": {
      "image/png": "[encoded data removed]",
      "text/plain": [
       "<Figure size 640x480 with 1 Axes>"
      ]
     },
     "metadata": {},
     "output_type": "display_data"
    }
   ],
   "source": [
    "for mod, lik in likelihoods.items():\n",
    "    plt.plot(years, lik, \"o-\", label=mod)\n",
    "plt.xlabel(f\"train from 'year' until {train_end}\")\n",
    "plt.ylabel(f\"log likelihood ({test_start} - {test_end})\")\n",
    "plt.xticks(rotation=90)\n",
    "plt.legend()"
   ]
  },
  {
   "cell_type": "code",
   "execution_count": 4,
   "id": "ac0e8a34",
   "metadata": {},
   "outputs": [
    {
     "data": {
      "text/html": [
       "<div>\n",
       "<style scoped>\n",
       "    .dataframe tbody tr th:only-of-type {\n",
       "        vertical-align: middle;\n",
       "    }\n",
       "\n",
       "    .dataframe tbody tr th {\n",
       "        vertical-align: top;\n",
       "    }\n",
       "\n",
       "    .dataframe thead th {\n",
       "        text-align: right;\n",
       "    }\n",
       "</style>\n",
       "<table border=\"1\" class=\"dataframe\">\n",
       "  <thead>\n",
       "    <tr style=\"text-align: right;\">\n",
       "      <th></th>\n",
       "      <th>DixonColesMatchPredictor</th>\n",
       "      <th>ExtendedDixonColesMatchPredictor</th>\n",
       "      <th>NeutralDixonColesMatchPredictor</th>\n",
       "      <th>NeutralDixonColesMatchPredictorWC</th>\n",
       "    </tr>\n",
       "  </thead>\n",
       "  <tbody>\n",
       "    <tr>\n",
       "      <th>1872-1-1</th>\n",
       "      <td>-2.823626</td>\n",
       "      <td>-2.821172</td>\n",
       "      <td>-2.810660</td>\n",
       "      <td>-2.810236</td>\n",
       "    </tr>\n",
       "    <tr>\n",
       "      <th>1925-1-1</th>\n",
       "      <td>-2.821342</td>\n",
       "      <td>-2.818833</td>\n",
       "      <td>-2.808097</td>\n",
       "      <td>-2.807693</td>\n",
       "    </tr>\n",
       "    <tr>\n",
       "      <th>1975-1-1</th>\n",
       "      <td>-2.792264</td>\n",
       "      <td>-2.789337</td>\n",
       "      <td>-2.777419</td>\n",
       "      <td>-2.777099</td>\n",
       "    </tr>\n",
       "    <tr>\n",
       "      <th>2000-1-1</th>\n",
       "      <td>-2.775430</td>\n",
       "      <td>-2.770141</td>\n",
       "      <td>-2.759961</td>\n",
       "      <td>-2.759783</td>\n",
       "    </tr>\n",
       "    <tr>\n",
       "      <th>2008-1-1</th>\n",
       "      <td>-2.764859</td>\n",
       "      <td>-2.756828</td>\n",
       "      <td>-2.748680</td>\n",
       "      <td>-2.747258</td>\n",
       "    </tr>\n",
       "    <tr>\n",
       "      <th>2012-1-1</th>\n",
       "      <td>-2.762008</td>\n",
       "      <td>-2.749578</td>\n",
       "      <td>-2.742718</td>\n",
       "      <td>-2.742152</td>\n",
       "    </tr>\n",
       "    <tr>\n",
       "      <th>2014-1-1</th>\n",
       "      <td>-2.761573</td>\n",
       "      <td>-2.745360</td>\n",
       "      <td>-2.739013</td>\n",
       "      <td>-2.737315</td>\n",
       "    </tr>\n",
       "    <tr>\n",
       "      <th>2015-1-1</th>\n",
       "      <td>-2.762334</td>\n",
       "      <td>-2.744640</td>\n",
       "      <td>-2.737803</td>\n",
       "      <td>-2.735583</td>\n",
       "    </tr>\n",
       "    <tr>\n",
       "      <th>2016-1-1</th>\n",
       "      <td>-2.773179</td>\n",
       "      <td>-2.750771</td>\n",
       "      <td>-2.744116</td>\n",
       "      <td>-2.741841</td>\n",
       "    </tr>\n",
       "    <tr>\n",
       "      <th>2017-1-1</th>\n",
       "      <td>-2.790618</td>\n",
       "      <td>-2.758577</td>\n",
       "      <td>-2.752862</td>\n",
       "      <td>-2.748133</td>\n",
       "    </tr>\n",
       "    <tr>\n",
       "      <th>2018-1-1</th>\n",
       "      <td>-2.824359</td>\n",
       "      <td>-2.783473</td>\n",
       "      <td>-2.775469</td>\n",
       "      <td>-2.770046</td>\n",
       "    </tr>\n",
       "    <tr>\n",
       "      <th>2019-1-1</th>\n",
       "      <td>-2.897148</td>\n",
       "      <td>-2.842578</td>\n",
       "      <td>-2.836899</td>\n",
       "      <td>-2.817894</td>\n",
       "    </tr>\n",
       "    <tr>\n",
       "      <th>2020-1-1</th>\n",
       "      <td>NaN</td>\n",
       "      <td>NaN</td>\n",
       "      <td>NaN</td>\n",
       "      <td>NaN</td>\n",
       "    </tr>\n",
       "  </tbody>\n",
       "</table>\n",
       "</div>"
      ],
      "text/plain": [
       "          DixonColesMatchPredictor  ExtendedDixonColesMatchPredictor  \\\n",
       "1872-1-1                 -2.823626                         -2.821172   \n",
       "1925-1-1                 -2.821342                         -2.818833   \n",
       "1975-1-1                 -2.792264                         -2.789337   \n",
       "2000-1-1                 -2.775430                         -2.770141   \n",
       "2008-1-1                 -2.764859                         -2.756828   \n",
       "2012-1-1                 -2.762008                         -2.749578   \n",
       "2014-1-1                 -2.761573                         -2.745360   \n",
       "2015-1-1                 -2.762334                         -2.744640   \n",
       "2016-1-1                 -2.773179                         -2.750771   \n",
       "2017-1-1                 -2.790618                         -2.758577   \n",
       "2018-1-1                 -2.824359                         -2.783473   \n",
       "2019-1-1                 -2.897148                         -2.842578   \n",
       "2020-1-1                       NaN                               NaN   \n",
       "\n",
       "          NeutralDixonColesMatchPredictor  NeutralDixonColesMatchPredictorWC  \n",
       "1872-1-1                        -2.810660                          -2.810236  \n",
       "1925-1-1                        -2.808097                          -2.807693  \n",
       "1975-1-1                        -2.777419                          -2.777099  \n",
       "2000-1-1                        -2.759961                          -2.759783  \n",
       "2008-1-1                        -2.748680                          -2.747258  \n",
       "2012-1-1                        -2.742718                          -2.742152  \n",
       "2014-1-1                        -2.739013                          -2.737315  \n",
       "2015-1-1                        -2.737803                          -2.735583  \n",
       "2016-1-1                        -2.744116                          -2.741841  \n",
       "2017-1-1                        -2.752862                          -2.748133  \n",
       "2018-1-1                        -2.775469                          -2.770046  \n",
       "2019-1-1                        -2.836899                          -2.817894  \n",
       "2020-1-1                              NaN                                NaN  "
      ]
     },
     "execution_count": 4,
     "metadata": {},
     "output_type": "execute_result"
    }
   ],
   "source": [
    "pd.DataFrame(likelihoods, index=years)"
   ]
  },
  {
   "cell_type": "markdown",
   "id": "22eb3b90",
   "metadata": {},
   "source": [
    "Max likelihood at 2015, i.e. when training with 6 full years of data.\n",
    "\n",
    "So for World Cup 2022 may want to include 2016-2022 results."
   ]
  },
  {
   "cell_type": "code",
   "execution_count": null,
   "id": "dfabe85d",
   "metadata": {},
   "outputs": [],
   "source": []
  }
 ],
 "metadata": {
  "kernelspec": {
   "display_name": "Python 3 (ipykernel)",
   "language": "python",
   "name": "python3"
  },
  "language_info": {
   "codemirror_mode": {
    "name": "ipython",
    "version": 3
   },
   "file_extension": ".py",
   "mimetype": "text/x-python",
   "name": "python",
   "nbconvert_exporter": "python",
   "pygments_lexer": "ipython3",
   "version": "3.9.13"
  }
 },
 "nbformat": 4,
 "nbformat_minor": 5
}
