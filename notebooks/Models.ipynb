{
 "cells": [
  {
   "cell_type": "markdown",
   "id": "c4a7700c",
   "metadata": {},
   "source": [
    "# Model Comparisons"
   ]
  },
  {
   "cell_type": "code",
   "execution_count": 1,
   "id": "4365379b",
   "metadata": {},
   "outputs": [],
   "source": [
    "import numpy as np\n",
    "import pandas as pd\n",
    "\n",
    "import matplotlib.pyplot as plt\n",
    "import seaborn as sns\n",
    "\n",
    "import bpl\n",
    "\n",
    "from wcpredictor.src.utils import get_and_train_model, test_model"
   ]
  },
  {
   "cell_type": "markdown",
   "id": "64d769e4",
   "metadata": {},
   "source": [
    "- fit up to end of 2020\n",
    "- test on 2021 and 2022\n",
    "- no covariates"
   ]
  },
  {
   "cell_type": "code",
   "execution_count": 2,
   "id": "2dfdde38",
   "metadata": {
    "scrolled": false
   },
   "outputs": [
    {
     "name": "stdout",
     "output_type": "stream",
     "text": [
      "DixonColesMatchPredictor\n",
      "=======\n",
      "1872-1-1\n",
      "=======\n",
      "in get_and_train_model\n",
      "Using 34942 rows in training data\n",
      "[MODEL FITTING] Setting training data for the model\n"
     ]
    },
    {
     "ename": "KeyError",
     "evalue": "'Czechoslovakia'",
     "output_type": "error",
     "traceback": [
      "\u001b[0;31m---------------------------------------------------------------------------\u001b[0m",
      "\u001b[0;31mKeyError\u001b[0m                                  Traceback (most recent call last)",
      "Cell \u001b[0;32mIn [2], line 26\u001b[0m\n\u001b[1;32m     24\u001b[0m \u001b[38;5;28mprint\u001b[39m(train_start)\n\u001b[1;32m     25\u001b[0m \u001b[38;5;28mprint\u001b[39m(\u001b[38;5;124m\"\u001b[39m\u001b[38;5;124m=======\u001b[39m\u001b[38;5;124m\"\u001b[39m)\n\u001b[0;32m---> 26\u001b[0m model \u001b[38;5;241m=\u001b[39m \u001b[43mget_and_train_model\u001b[49m\u001b[43m(\u001b[49m\n\u001b[1;32m     27\u001b[0m \u001b[43m    \u001b[49m\u001b[43mstart_date\u001b[49m\u001b[38;5;241;43m=\u001b[39;49m\u001b[43mtrain_start\u001b[49m\u001b[43m,\u001b[49m\u001b[43m \u001b[49m\u001b[43mend_date\u001b[49m\u001b[38;5;241;43m=\u001b[39;49m\u001b[43mtrain_end\u001b[49m\u001b[43m,\u001b[49m\u001b[43m \u001b[49m\u001b[43mmodel\u001b[49m\u001b[38;5;241;43m=\u001b[39;49m\u001b[43mmodel\u001b[49m\u001b[43m,\u001b[49m\u001b[43m \u001b[49m\u001b[43mrankings_source\u001b[49m\u001b[38;5;241;43m=\u001b[39;49m\u001b[38;5;28;43;01mNone\u001b[39;49;00m\n\u001b[1;32m     28\u001b[0m \u001b[43m\u001b[49m\u001b[43m)\u001b[49m\u001b[38;5;241m.\u001b[39mmodel\n\u001b[1;32m     29\u001b[0m likelihoods[key]\u001b[38;5;241m.\u001b[39mappend(test_model(\n\u001b[1;32m     30\u001b[0m     model\u001b[38;5;241m=\u001b[39mmodel, start_date\u001b[38;5;241m=\u001b[39mtest_start, end_date\u001b[38;5;241m=\u001b[39mtest_end\n\u001b[1;32m     31\u001b[0m ))\n",
      "File \u001b[0;32m~/GitHub/WorldCupPrediction/wcpredictor/src/utils.py:57\u001b[0m, in \u001b[0;36mget_and_train_model\u001b[0;34m(start_date, end_date, competitions, rankings_source, model)\u001b[0m\n\u001b[1;32m     55\u001b[0m ratings \u001b[38;5;241m=\u001b[39m get_fifa_rankings_data(rankings_source) \u001b[38;5;28;01mif\u001b[39;00m rankings_source \u001b[38;5;28;01melse\u001b[39;00m \u001b[38;5;28;01mNone\u001b[39;00m\n\u001b[1;32m     56\u001b[0m wc_pred \u001b[38;5;241m=\u001b[39m WCPred(results\u001b[38;5;241m=\u001b[39mresults, ratings\u001b[38;5;241m=\u001b[39mratings, model\u001b[38;5;241m=\u001b[39mmodel)\n\u001b[0;32m---> 57\u001b[0m \u001b[43mwc_pred\u001b[49m\u001b[38;5;241;43m.\u001b[39;49m\u001b[43mset_training_data\u001b[49m\u001b[43m(\u001b[49m\u001b[43m)\u001b[49m\n\u001b[1;32m     58\u001b[0m wc_pred\u001b[38;5;241m.\u001b[39mfit_model()\n\u001b[1;32m     59\u001b[0m \u001b[38;5;28;01mreturn\u001b[39;00m wc_pred\n",
      "File \u001b[0;32m~/GitHub/WorldCupPrediction/wcpredictor/src/bpl_interface.py:97\u001b[0m, in \u001b[0;36mWCPred.set_training_data\u001b[0;34m(self)\u001b[0m\n\u001b[1;32m     93\u001b[0m \u001b[38;5;124;03m\"\"\"Get training data for team model including FIFA ratings as covariates.\u001b[39;00m\n\u001b[1;32m     94\u001b[0m \u001b[38;5;124;03mData returned is for all matches up to specified gameweek and season.\u001b[39;00m\n\u001b[1;32m     95\u001b[0m \u001b[38;5;124;03m\"\"\"\u001b[39;00m\n\u001b[1;32m     96\u001b[0m \u001b[38;5;28mprint\u001b[39m(\u001b[38;5;124m\"\u001b[39m\u001b[38;5;124m[MODEL FITTING] Setting training data for the model\u001b[39m\u001b[38;5;124m\"\u001b[39m)\n\u001b[0;32m---> 97\u001b[0m training_data \u001b[38;5;241m=\u001b[39m \u001b[38;5;28;43mself\u001b[39;49m\u001b[38;5;241;43m.\u001b[39;49m\u001b[43mget_result_dict\u001b[49m\u001b[43m(\u001b[49m\u001b[43m)\u001b[49m\n\u001b[1;32m     98\u001b[0m \u001b[38;5;28;01mif\u001b[39;00m \u001b[38;5;28mself\u001b[39m\u001b[38;5;241m.\u001b[39mratings \u001b[38;5;129;01mis\u001b[39;00m \u001b[38;5;129;01mnot\u001b[39;00m \u001b[38;5;28;01mNone\u001b[39;00m:\n\u001b[1;32m     99\u001b[0m     \u001b[38;5;28;01mif\u001b[39;00m \u001b[38;5;28mself\u001b[39m\u001b[38;5;241m.\u001b[39mratings\u001b[38;5;241m.\u001b[39misna()\u001b[38;5;241m.\u001b[39many()\u001b[38;5;241m.\u001b[39many():\n",
      "File \u001b[0;32m~/GitHub/WorldCupPrediction/wcpredictor/src/bpl_interface.py:55\u001b[0m, in \u001b[0;36mWCPred.get_result_dict\u001b[0;34m(self)\u001b[0m\n\u001b[1;32m     47\u001b[0m \u001b[38;5;28;01mdef\u001b[39;00m \u001b[38;5;21mget_result_dict\u001b[39m(\u001b[38;5;28mself\u001b[39m) \u001b[38;5;241m-\u001b[39m\u001b[38;5;241m>\u001b[39m \u001b[38;5;28mdict\u001b[39m[\u001b[38;5;28mstr\u001b[39m, np\u001b[38;5;241m.\u001b[39marray]:\n\u001b[1;32m     48\u001b[0m     \u001b[38;5;124;03m\"\"\"\u001b[39;00m\n\u001b[1;32m     49\u001b[0m \u001b[38;5;124;03m    put results into dictionary to train model\u001b[39;00m\n\u001b[1;32m     50\u001b[0m \u001b[38;5;124;03m    \"\"\"\u001b[39;00m\n\u001b[1;32m     51\u001b[0m     \u001b[38;5;28;01mreturn\u001b[39;00m {\n\u001b[1;32m     52\u001b[0m         \u001b[38;5;124m\"\u001b[39m\u001b[38;5;124mhome_team\u001b[39m\u001b[38;5;124m\"\u001b[39m: np\u001b[38;5;241m.\u001b[39marray(\u001b[38;5;28mself\u001b[39m\u001b[38;5;241m.\u001b[39mresults\u001b[38;5;241m.\u001b[39mhome_team),\n\u001b[1;32m     53\u001b[0m         \u001b[38;5;124m\"\u001b[39m\u001b[38;5;124maway_team\u001b[39m\u001b[38;5;124m\"\u001b[39m: np\u001b[38;5;241m.\u001b[39marray(\u001b[38;5;28mself\u001b[39m\u001b[38;5;241m.\u001b[39mresults\u001b[38;5;241m.\u001b[39maway_team),\n\u001b[1;32m     54\u001b[0m         \u001b[38;5;124m\"\u001b[39m\u001b[38;5;124mhome_conf\u001b[39m\u001b[38;5;124m\"\u001b[39m: np\u001b[38;5;241m.\u001b[39marray(\n\u001b[0;32m---> 55\u001b[0m             [\u001b[38;5;28mself\u001b[39m\u001b[38;5;241m.\u001b[39mconfed_dict[team] \u001b[38;5;28;01mfor\u001b[39;00m team \u001b[38;5;129;01min\u001b[39;00m \u001b[38;5;28mself\u001b[39m\u001b[38;5;241m.\u001b[39mresults\u001b[38;5;241m.\u001b[39mhome_team]\n\u001b[1;32m     56\u001b[0m         ),\n\u001b[1;32m     57\u001b[0m         \u001b[38;5;124m\"\u001b[39m\u001b[38;5;124maway_conf\u001b[39m\u001b[38;5;124m\"\u001b[39m: np\u001b[38;5;241m.\u001b[39marray(\n\u001b[1;32m     58\u001b[0m             [\u001b[38;5;28mself\u001b[39m\u001b[38;5;241m.\u001b[39mconfed_dict[team] \u001b[38;5;28;01mfor\u001b[39;00m team \u001b[38;5;129;01min\u001b[39;00m \u001b[38;5;28mself\u001b[39m\u001b[38;5;241m.\u001b[39mresults\u001b[38;5;241m.\u001b[39maway_team]\n\u001b[1;32m     59\u001b[0m         ),\n\u001b[1;32m     60\u001b[0m         \u001b[38;5;124m\"\u001b[39m\u001b[38;5;124mhome_goals\u001b[39m\u001b[38;5;124m\"\u001b[39m: np\u001b[38;5;241m.\u001b[39marray(\u001b[38;5;28mself\u001b[39m\u001b[38;5;241m.\u001b[39mresults\u001b[38;5;241m.\u001b[39mhome_score),\n\u001b[1;32m     61\u001b[0m         \u001b[38;5;124m\"\u001b[39m\u001b[38;5;124maway_goals\u001b[39m\u001b[38;5;124m\"\u001b[39m: np\u001b[38;5;241m.\u001b[39marray(\u001b[38;5;28mself\u001b[39m\u001b[38;5;241m.\u001b[39mresults\u001b[38;5;241m.\u001b[39maway_score),\n\u001b[1;32m     62\u001b[0m         \u001b[38;5;124m\"\u001b[39m\u001b[38;5;124mneutral_venue\u001b[39m\u001b[38;5;124m\"\u001b[39m: np\u001b[38;5;241m.\u001b[39marray(\u001b[38;5;28mself\u001b[39m\u001b[38;5;241m.\u001b[39mresults\u001b[38;5;241m.\u001b[39mneutral),\n\u001b[1;32m     63\u001b[0m     }\n",
      "File \u001b[0;32m~/GitHub/WorldCupPrediction/wcpredictor/src/bpl_interface.py:55\u001b[0m, in \u001b[0;36m<listcomp>\u001b[0;34m(.0)\u001b[0m\n\u001b[1;32m     47\u001b[0m \u001b[38;5;28;01mdef\u001b[39;00m \u001b[38;5;21mget_result_dict\u001b[39m(\u001b[38;5;28mself\u001b[39m) \u001b[38;5;241m-\u001b[39m\u001b[38;5;241m>\u001b[39m \u001b[38;5;28mdict\u001b[39m[\u001b[38;5;28mstr\u001b[39m, np\u001b[38;5;241m.\u001b[39marray]:\n\u001b[1;32m     48\u001b[0m     \u001b[38;5;124;03m\"\"\"\u001b[39;00m\n\u001b[1;32m     49\u001b[0m \u001b[38;5;124;03m    put results into dictionary to train model\u001b[39;00m\n\u001b[1;32m     50\u001b[0m \u001b[38;5;124;03m    \"\"\"\u001b[39;00m\n\u001b[1;32m     51\u001b[0m     \u001b[38;5;28;01mreturn\u001b[39;00m {\n\u001b[1;32m     52\u001b[0m         \u001b[38;5;124m\"\u001b[39m\u001b[38;5;124mhome_team\u001b[39m\u001b[38;5;124m\"\u001b[39m: np\u001b[38;5;241m.\u001b[39marray(\u001b[38;5;28mself\u001b[39m\u001b[38;5;241m.\u001b[39mresults\u001b[38;5;241m.\u001b[39mhome_team),\n\u001b[1;32m     53\u001b[0m         \u001b[38;5;124m\"\u001b[39m\u001b[38;5;124maway_team\u001b[39m\u001b[38;5;124m\"\u001b[39m: np\u001b[38;5;241m.\u001b[39marray(\u001b[38;5;28mself\u001b[39m\u001b[38;5;241m.\u001b[39mresults\u001b[38;5;241m.\u001b[39maway_team),\n\u001b[1;32m     54\u001b[0m         \u001b[38;5;124m\"\u001b[39m\u001b[38;5;124mhome_conf\u001b[39m\u001b[38;5;124m\"\u001b[39m: np\u001b[38;5;241m.\u001b[39marray(\n\u001b[0;32m---> 55\u001b[0m             [\u001b[38;5;28;43mself\u001b[39;49m\u001b[38;5;241;43m.\u001b[39;49m\u001b[43mconfed_dict\u001b[49m\u001b[43m[\u001b[49m\u001b[43mteam\u001b[49m\u001b[43m]\u001b[49m \u001b[38;5;28;01mfor\u001b[39;00m team \u001b[38;5;129;01min\u001b[39;00m \u001b[38;5;28mself\u001b[39m\u001b[38;5;241m.\u001b[39mresults\u001b[38;5;241m.\u001b[39mhome_team]\n\u001b[1;32m     56\u001b[0m         ),\n\u001b[1;32m     57\u001b[0m         \u001b[38;5;124m\"\u001b[39m\u001b[38;5;124maway_conf\u001b[39m\u001b[38;5;124m\"\u001b[39m: np\u001b[38;5;241m.\u001b[39marray(\n\u001b[1;32m     58\u001b[0m             [\u001b[38;5;28mself\u001b[39m\u001b[38;5;241m.\u001b[39mconfed_dict[team] \u001b[38;5;28;01mfor\u001b[39;00m team \u001b[38;5;129;01min\u001b[39;00m \u001b[38;5;28mself\u001b[39m\u001b[38;5;241m.\u001b[39mresults\u001b[38;5;241m.\u001b[39maway_team]\n\u001b[1;32m     59\u001b[0m         ),\n\u001b[1;32m     60\u001b[0m         \u001b[38;5;124m\"\u001b[39m\u001b[38;5;124mhome_goals\u001b[39m\u001b[38;5;124m\"\u001b[39m: np\u001b[38;5;241m.\u001b[39marray(\u001b[38;5;28mself\u001b[39m\u001b[38;5;241m.\u001b[39mresults\u001b[38;5;241m.\u001b[39mhome_score),\n\u001b[1;32m     61\u001b[0m         \u001b[38;5;124m\"\u001b[39m\u001b[38;5;124maway_goals\u001b[39m\u001b[38;5;124m\"\u001b[39m: np\u001b[38;5;241m.\u001b[39marray(\u001b[38;5;28mself\u001b[39m\u001b[38;5;241m.\u001b[39mresults\u001b[38;5;241m.\u001b[39maway_score),\n\u001b[1;32m     62\u001b[0m         \u001b[38;5;124m\"\u001b[39m\u001b[38;5;124mneutral_venue\u001b[39m\u001b[38;5;124m\"\u001b[39m: np\u001b[38;5;241m.\u001b[39marray(\u001b[38;5;28mself\u001b[39m\u001b[38;5;241m.\u001b[39mresults\u001b[38;5;241m.\u001b[39mneutral),\n\u001b[1;32m     63\u001b[0m     }\n",
      "\u001b[0;31mKeyError\u001b[0m: 'Czechoslovakia'"
     ]
    }
   ],
   "source": [
    "years = [\n",
    "    \"1872-1-1\", \"1925-1-1\", \"1975-1-1\", \"2000-1-1\", \"2008-1-1\",\n",
    "    \"2012-1-1\", \"2014-1-1\", \"2015-1-1\", \"2016-1-1\", \"2017-1-1\",\n",
    "    \"2018-1-1\", \"2019-1-1\", \"2020-1-1\"\n",
    "]\n",
    "train_end = \"2020-12-31\"\n",
    "test_start = \"2021-1-1\"\n",
    "test_end = \"2022-12-31\"\n",
    "\n",
    "models = [\n",
    "    bpl.DixonColesMatchPredictor(),\n",
    "    bpl.ExtendedDixonColesMatchPredictor(),\n",
    "    bpl.NeutralDixonColesMatchPredictor(),\n",
    "    bpl.NeutralDixonColesMatchPredictorWC()\n",
    "]\n",
    "likelihoods = {}\n",
    "\n",
    "for model in models:\n",
    "    key = type(model).__name__\n",
    "    print(key)\n",
    "    likelihoods[key] = []\n",
    "    for train_start in years:\n",
    "        print(\"=======\")\n",
    "        print(train_start)\n",
    "        print(\"=======\")\n",
    "        model = get_and_train_model(\n",
    "            start_date=train_start, end_date=train_end, model=model, rankings_source=None\n",
    "        ).model\n",
    "        likelihoods[key].append(test_model(\n",
    "            model=model, start_date=test_start, end_date=test_end\n",
    "        ))\n"
   ]
  },
  {
   "cell_type": "code",
   "execution_count": null,
   "id": "41c758c1",
   "metadata": {},
   "outputs": [],
   "source": [
    "for mod, lik in likelihoods.items():\n",
    "    plt.plot(years, lik, \"o-\", label=mod)\n",
    "plt.xlabel(f\"train from 'year' until {train_end}\")\n",
    "plt.ylabel(f\"log likelihood ({test_start} - {test_end})\")\n",
    "plt.xticks(rotation=90)\n",
    "plt.legend()"
   ]
  },
  {
   "cell_type": "code",
   "execution_count": null,
   "id": "ac0e8a34",
   "metadata": {},
   "outputs": [],
   "source": [
    "pd.DataFrame(likelihoods, index=years)"
   ]
  },
  {
   "cell_type": "markdown",
   "id": "22eb3b90",
   "metadata": {},
   "source": [
    "Max likelihood at 2015, i.e. when training with 6 full years of data.\n",
    "\n",
    "So for World Cup 2022 may want to include 2016-2022 results."
   ]
  }
 ],
 "metadata": {
  "kernelspec": {
   "display_name": "Python 3 (ipykernel)",
   "language": "python",
   "name": "python3"
  },
  "language_info": {
   "codemirror_mode": {
    "name": "ipython",
    "version": 3
   },
   "file_extension": ".py",
   "mimetype": "text/x-python",
   "name": "python",
   "nbconvert_exporter": "python",
   "pygments_lexer": "ipython3",
   "version": "3.9.13"
  }
 },
 "nbformat": 4,
 "nbformat_minor": 5
}
